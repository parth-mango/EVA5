{
  "nbformat": 4,
  "nbformat_minor": 0,
  "metadata": {
    "colab": {
      "name": "kmeans_plot.ipynb",
      "provenance": [],
      "collapsed_sections": []
    },
    "kernelspec": {
      "name": "python3",
      "display_name": "Python 3"
    }
  },
  "cells": [
    {
      "cell_type": "code",
      "metadata": {
        "id": "osh4K8ETCZTu"
      },
      "source": [
        "#!pip install Pillow"
      ],
      "execution_count": null,
      "outputs": []
    },
    {
      "cell_type": "code",
      "metadata": {
        "id": "2smrGR4aBI8P"
      },
      "source": [
        "import matplotlib.pyplot as plt\r\n",
        "import numpy as np\r\n",
        "import pandas as pd\r\n",
        "from sklearn.cluster import KMeans"
      ],
      "execution_count": 1,
      "outputs": []
    },
    {
      "cell_type": "code",
      "metadata": {
        "id": "TL9-VnueCJuG"
      },
      "source": [
        "import json\r\n",
        "\r\n",
        "box_data = json(open('evas12b_json.json').read())"
      ],
      "execution_count": null,
      "outputs": []
    },
    {
      "cell_type": "code",
      "metadata": {
        "id": "GAZS5XFpCC-C"
      },
      "source": [
        "from PIL import Image\r\n",
        "\r\n",
        "folder_path = 'images'\r\n",
        "\r\n",
        "\r\n",
        "json_data_v2 = {}\r\n",
        "\r\n",
        "for image, image_data in box_data.items():\r\n",
        "    filepath = os.path.join(folder_path, image_data['filename'])\r\n",
        "    with Image.open(filepath) as img:\r\n",
        "        width, height = img.size\r\n",
        "    image_data['image_w'] = width\r\n",
        "    image_data['image_h'] = height\r\n",
        "    \r\n",
        "    json_data_v2[image] = image_data\r\n",
        "    "
      ],
      "execution_count": null,
      "outputs": []
    },
    {
      "cell_type": "code",
      "metadata": {
        "id": "_qKZVUduCVuP"
      },
      "source": [
        "json_data_v3 = {}\r\n",
        "for image, image_data in json_data_v2.items():\r\n",
        "    for index, region in enumerate(image_data['regions']):\r\n",
        "        n_width = region['shape_attributes']['width'] / image_data['image_w']\r\n",
        "        n_height = region['shape_attributes']['height'] / image_data['image_h']\r\n",
        "        image_data['regions'][index]['shape_attributes']['n_width'] = n_width\r\n",
        "        image_data['regions'][index]['shape_attributes']['n_height'] = n_height\r\n",
        "        \r\n",
        "    json_data_v3[image] = image_data"
      ],
      "execution_count": null,
      "outputs": []
    },
    {
      "cell_type": "code",
      "metadata": {
        "id": "u2XuBrI8Cf-v"
      },
      "source": [
        "wh_list = []\r\n",
        "for image, image_data in json_data_v4.items():\r\n",
        "    for index, region in enumerate(image_data['regions']):\r\n",
        "        wh_list.append([math.log(region['shape_attributes']['n_width']), math.log(region['shape_attributes']['n_height'])])\r\n"
      ],
      "execution_count": null,
      "outputs": []
    },
    {
      "cell_type": "code",
      "metadata": {
        "id": "Goe6EDcuBR17"
      },
      "source": [
        "# import json\r\n",
        "\r\n",
        "# wh_list = json.loads(open('wh_list.json', 'r').read())"
      ],
      "execution_count": 2,
      "outputs": []
    },
    {
      "cell_type": "code",
      "metadata": {
        "id": "TIbrImmIBUXV",
        "colab": {
          "base_uri": "https://localhost:8080/"
        },
        "outputId": "095c7478-45c8-4bf9-efe6-073e9478b2e1"
      },
      "source": [
        "ratio_arr= np.array(wh_list)\r\n",
        "\r\n",
        "len(ratio_arr)"
      ],
      "execution_count": 3,
      "outputs": [
        {
          "output_type": "execute_result",
          "data": {
            "text/plain": [
              "352"
            ]
          },
          "metadata": {
            "tags": []
          },
          "execution_count": 3
        }
      ]
    },
    {
      "cell_type": "code",
      "metadata": {
        "id": "6kzbPSoCBWd8",
        "colab": {
          "base_uri": "https://localhost:8080/",
          "height": 295
        },
        "outputId": "2a65f186-2042-4c25-83ce-7237d58ecccc"
      },
      "source": [
        "wcss = []\r\n",
        "for i in range(1, 11):\r\n",
        "    kmeans = KMeans(n_clusters=i, init='k-means++', max_iter=300, n_init=10, random_state=0)\r\n",
        "    kmeans.fit(ratio_arr)\r\n",
        "    wcss.append(kmeans.inertia_)\r\n",
        "plt.plot(range(1, 11), wcss)\r\n",
        "plt.title('Elbow Method')\r\n",
        "plt.xlabel('Number of clusters')\r\n",
        "plt.ylabel('WCSS')\r\n",
        "plt.show()"
      ],
      "execution_count": 4,
      "outputs": [
        {
          "output_type": "display_data",
          "data": {
            "image/png": "[encoded data removed]",
            "text/plain": [
              "<Figure size 432x288 with 1 Axes>"
            ]
          },
          "metadata": {
            "tags": [],
            "needs_background": "light"
          }
        }
      ]
    },
    {
      "cell_type": "code",
      "metadata": {
        "id": "8EuA6M3OBY4h",
        "colab": {
          "base_uri": "https://localhost:8080/",
          "height": 295
        },
        "outputId": "06a02c35-504d-4a43-ad01-e0371bf0f5b6"
      },
      "source": [
        "kmeans = KMeans(n_clusters=3, init='k-means++', max_iter=352, n_init=10, random_state=0)\r\n",
        "pred_y = kmeans.fit_predict(ratio_arr)\r\n",
        "plt.scatter(ratio_arr[:,0], ratio_arr[:,1])\r\n",
        "plt.scatter(kmeans.cluster_centers_[:, 0], kmeans.cluster_centers_[:, 1], s=300, c='red')\r\n",
        "plt.title('Cluster Blobs')\r\n",
        "plt.xlabel('log(w)')\r\n",
        "plt.ylabel('log(h)')\r\n",
        "plt.show()"
      ],
      "execution_count": 5,
      "outputs": [
        {
          "output_type": "display_data",
          "data": {
            "image/png": "[encoded data removed]",
            "text/plain": [
              "<Figure size 432x288 with 1 Axes>"
            ]
          },
          "metadata": {
            "tags": [],
            "needs_background": "light"
          }
        }
      ]
    },
    {
      "cell_type": "code",
      "metadata": {
        "id": "MmD6Q1n5DRac"
      },
      "source": [
        ""
      ],
      "execution_count": null,
      "outputs": []
    }
  ]
}