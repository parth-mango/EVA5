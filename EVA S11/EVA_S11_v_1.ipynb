{
  "nbformat": 4,
  "nbformat_minor": 0,
  "metadata": {
    "colab": {
      "name": "EVA S11 v_1.ipynb",
      "provenance": [],
      "collapsed_sections": [],
      "include_colab_link": true
    },
    "kernelspec": {
      "display_name": "Python 3",
      "name": "python3"
    },
    "accelerator": "GPU",
    "widgets": {
      "application/vnd.jupyter.widget-state+json": {
        "02977b56a13a4d098b7c5df604437d72": {
          "model_module": "@jupyter-widgets/controls",
          "model_name": "HBoxModel",
          "state": {
            "_view_name": "HBoxView",
            "_dom_classes": [],
            "_model_name": "HBoxModel",
            "_view_module": "@jupyter-widgets/controls",
            "_model_module_version": "1.5.0",
            "_view_count": null,
            "_view_module_version": "1.5.0",
            "box_style": "",
            "layout": "IPY_MODEL_a383db8dded440c989058b959fa64dc0",
            "_model_module": "@jupyter-widgets/controls",
            "children": [
              "IPY_MODEL_99416e35581e4cef9a8b836221993fb4",
              "IPY_MODEL_0a5e45275a8e414b93d4da5ed408d1e6"
            ]
          }
        },
        "a383db8dded440c989058b959fa64dc0": {
          "model_module": "@jupyter-widgets/base",
          "model_name": "LayoutModel",
          "state": {
            "_view_name": "LayoutView",
            "grid_template_rows": null,
            "right": null,
            "justify_content": null,
            "_view_module": "@jupyter-widgets/base",
            "overflow": null,
            "_model_module_version": "1.2.0",
            "_view_count": null,
            "flex_flow": null,
            "width": null,
            "min_width": null,
            "border": null,
            "align_items": null,
            "bottom": null,
            "_model_module": "@jupyter-widgets/base",
            "top": null,
            "grid_column": null,
            "overflow_y": null,
            "overflow_x": null,
            "grid_auto_flow": null,
            "grid_area": null,
            "grid_template_columns": null,
            "flex": null,
            "_model_name": "LayoutModel",
            "justify_items": null,
            "grid_row": null,
            "max_height": null,
            "align_content": null,
            "visibility": null,
            "align_self": null,
            "height": null,
            "min_height": null,
            "padding": null,
            "grid_auto_rows": null,
            "grid_gap": null,
            "max_width": null,
            "order": null,
            "_view_module_version": "1.2.0",
            "grid_template_areas": null,
            "object_position": null,
            "object_fit": null,
            "grid_auto_columns": null,
            "margin": null,
            "display": null,
            "left": null
          }
        },
        "99416e35581e4cef9a8b836221993fb4": {
          "model_module": "@jupyter-widgets/controls",
          "model_name": "FloatProgressModel",
          "state": {
            "_view_name": "ProgressView",
            "style": "IPY_MODEL_130faac1c4664a18939a23c71f087070",
            "_dom_classes": [],
            "description": "100%",
            "_model_name": "FloatProgressModel",
            "bar_style": "success",
            "max": 2500,
            "_view_module": "@jupyter-widgets/controls",
            "_model_module_version": "1.5.0",
            "value": 2500,
            "_view_count": null,
            "_view_module_version": "1.5.0",
            "orientation": "horizontal",
            "min": 0,
            "description_tooltip": null,
            "_model_module": "@jupyter-widgets/controls",
            "layout": "IPY_MODEL_21b0918768484051924492a8caf17e14"
          }
        },
        "0a5e45275a8e414b93d4da5ed408d1e6": {
          "model_module": "@jupyter-widgets/controls",
          "model_name": "HTMLModel",
          "state": {
            "_view_name": "HTMLView",
            "style": "IPY_MODEL_86e193c8bea748adb9379f26c7d68e2e",
            "_dom_classes": [],
            "description": "",
            "_model_name": "HTMLModel",
            "placeholder": "​",
            "_view_module": "@jupyter-widgets/controls",
            "_model_module_version": "1.5.0",
            "value": " 2500/2500 [15:12&lt;00:00,  2.74it/s]",
            "_view_count": null,
            "_view_module_version": "1.5.0",
            "description_tooltip": null,
            "_model_module": "@jupyter-widgets/controls",
            "layout": "IPY_MODEL_f9282a4553c14121910ad5e8a872b4e7"
          }
        },
        "130faac1c4664a18939a23c71f087070": {
          "model_module": "@jupyter-widgets/controls",
          "model_name": "ProgressStyleModel",
          "state": {
            "_view_name": "StyleView",
            "_model_name": "ProgressStyleModel",
            "description_width": "initial",
            "_view_module": "@jupyter-widgets/base",
            "_model_module_version": "1.5.0",
            "_view_count": null,
            "_view_module_version": "1.2.0",
            "bar_color": null,
            "_model_module": "@jupyter-widgets/controls"
          }
        },
        "21b0918768484051924492a8caf17e14": {
          "model_module": "@jupyter-widgets/base",
          "model_name": "LayoutModel",
          "state": {
            "_view_name": "LayoutView",
            "grid_template_rows": null,
            "right": null,
            "justify_content": null,
            "_view_module": "@jupyter-widgets/base",
            "overflow": null,
            "_model_module_version": "1.2.0",
            "_view_count": null,
            "flex_flow": null,
            "width": null,
            "min_width": null,
            "border": null,
            "align_items": null,
            "bottom": null,
            "_model_module": "@jupyter-widgets/base",
            "top": null,
            "grid_column": null,
            "overflow_y": null,
            "overflow_x": null,
            "grid_auto_flow": null,
            "grid_area": null,
            "grid_template_columns": null,
            "flex": null,
            "_model_name": "LayoutModel",
            "justify_items": null,
            "grid_row": null,
            "max_height": null,
            "align_content": null,
            "visibility": null,
            "align_self": null,
            "height": null,
            "min_height": null,
            "padding": null,
            "grid_auto_rows": null,
            "grid_gap": null,
            "max_width": null,
            "order": null,
            "_view_module_version": "1.2.0",
            "grid_template_areas": null,
            "object_position": null,
            "object_fit": null,
            "grid_auto_columns": null,
            "margin": null,
            "display": null,
            "left": null
          }
        },
        "86e193c8bea748adb9379f26c7d68e2e": {
          "model_module": "@jupyter-widgets/controls",
          "model_name": "DescriptionStyleModel",
          "state": {
            "_view_name": "StyleView",
            "_model_name": "DescriptionStyleModel",
            "description_width": "",
            "_view_module": "@jupyter-widgets/base",
            "_model_module_version": "1.5.0",
            "_view_count": null,
            "_view_module_version": "1.2.0",
            "_model_module": "@jupyter-widgets/controls"
          }
        },
        "f9282a4553c14121910ad5e8a872b4e7": {
          "model_module": "@jupyter-widgets/base",
          "model_name": "LayoutModel",
          "state": {
            "_view_name": "LayoutView",
            "grid_template_rows": null,
            "right": null,
            "justify_content": null,
            "_view_module": "@jupyter-widgets/base",
            "overflow": null,
            "_model_module_version": "1.2.0",
            "_view_count": null,
            "flex_flow": null,
            "width": null,
            "min_width": null,
            "border": null,
            "align_items": null,
            "bottom": null,
            "_model_module": "@jupyter-widgets/base",
            "top": null,
            "grid_column": null,
            "overflow_y": null,
            "overflow_x": null,
            "grid_auto_flow": null,
            "grid_area": null,
            "grid_template_columns": null,
            "flex": null,
            "_model_name": "LayoutModel",
            "justify_items": null,
            "grid_row": null,
            "max_height": null,
            "align_content": null,
            "visibility": null,
            "align_self": null,
            "height": null,
            "min_height": null,
            "padding": null,
            "grid_auto_rows": null,
            "grid_gap": null,
            "max_width": null,
            "order": null,
            "_view_module_version": "1.2.0",
            "grid_template_areas": null,
            "object_position": null,
            "object_fit": null,
            "grid_auto_columns": null,
            "margin": null,
            "display": null,
            "left": null
          }
        }
      }
    }
  },
  "cells": [
    {
      "cell_type": "markdown",
      "metadata": {
        "id": "view-in-github",
        "colab_type": "text"
      },
      "source": [
        "<a href=\"https://colab.research.google.com/github/parth-mango/EVA5-Assignments/blob/main/EVA%20S11/EVA_S11_v_1.ipynb\" target=\"_parent\"><img src=\"https://colab.research.google.com/assets/colab-badge.svg\" alt=\"Open In Colab\"/></a>"
      ]
    },
    {
      "cell_type": "code",
      "metadata": {
        "id": "QBwmdwy-zaeF"
      },
      "source": [
        "# !pip install wget\r\n",
        "\r\n",
        "# !pip install -U git+https://github.com/albu/albumentations --no-cache-dir"
      ],
      "execution_count": null,
      "outputs": []
    },
    {
      "cell_type": "code",
      "metadata": {
        "id": "8gLu9Z38oMds"
      },
      "source": [
        "# from datetime import datetime\r\n",
        "# print(datetime.now())"
      ],
      "execution_count": null,
      "outputs": []
    },
    {
      "cell_type": "code",
      "metadata": {
        "id": "R3fslnfL28NM",
        "colab": {
          "base_uri": "https://localhost:8080/"
        },
        "outputId": "9932acd9-45f1-4c46-93ac-40288ee9bfda"
      },
      "source": [
        "!rm *.py.1\r\n",
        "# !rm *.py.2\r\n",
        "# !rm *.py\r\n"
      ],
      "execution_count": null,
      "outputs": [
        {
          "output_type": "stream",
          "text": [
            "rm: cannot remove '*.py.1': No such file or directory\n"
          ],
          "name": "stdout"
        }
      ]
    },
    {
      "cell_type": "code",
      "metadata": {
        "id": "SMJLavCryyO8",
        "colab": {
          "base_uri": "https://localhost:8080/"
        },
        "outputId": "656cfe83-b28f-498f-c42c-7b6c4deab80a"
      },
      "source": [
        "# !wget https://raw.githubusercontent.com/parth-mango/EVA5-Assignments/main/EVA%20S11/album_transform.py\r\n",
        "# !wget https://raw.githubusercontent.com/parth-mango/EVA5-Assignments/main/EVA%20S11/dataloaders.py\r\n",
        "# !wget https://raw.githubusercontent.com/parth-mango/EVA5-Assignments/main/EVA5%20S8/misc.py\r\n",
        "# !wget https://raw.githubusercontent.com/parth-mango/EVA5-Assignments/main/EVA%20S11/model.py\r\n",
        "# !wget https://raw.githubusercontent.com/parth-mango/EVA5-Assignments/main/EVA%20S11/cyclic_plot.py\r\n",
        "# !wget https://raw.githubusercontent.com/parth-mango/EVA5-Assignments/main/EVA%20S11/reg_tech.py\r\n",
        "# !wget https://raw.githubusercontent.com/parth-mango/EVA5-Assignments/main/EVA%20S11/testing.py\r\n",
        "# !wget https://raw.githubusercontent.com/parth-mango/EVA5-Assignments/main/EVA%20S11/training.py"
      ],
      "execution_count": null,
      "outputs": [
        {
          "output_type": "stream",
          "text": [
            "--2021-02-27 22:45:53--  https://raw.githubusercontent.com/parth-mango/EVA5-Assignments/main/EVA%20S11/album_transform.py\n",
            "Resolving raw.githubusercontent.com (raw.githubusercontent.com)... 185.199.109.133, 185.199.110.133, 185.199.111.133, ...\n",
            "Connecting to raw.githubusercontent.com (raw.githubusercontent.com)|185.199.109.133|:443... connected.\n",
            "HTTP request sent, awaiting response... 200 OK\n",
            "Length: 482 [text/plain]\n",
            "Saving to: ‘album_transform.py.1’\n",
            "\n",
            "\ralbum_transform.py.   0%[                    ]       0  --.-KB/s               \ralbum_transform.py. 100%[===================>]     482  --.-KB/s    in 0s      \n",
            "\n",
            "2021-02-27 22:45:53 (39.2 MB/s) - ‘album_transform.py.1’ saved [482/482]\n",
            "\n",
            "--2021-02-27 22:45:53--  https://raw.githubusercontent.com/parth-mango/EVA5-Assignments/main/EVA%20S11/dataloaders.py\n",
            "Resolving raw.githubusercontent.com (raw.githubusercontent.com)... 185.199.108.133, 185.199.109.133, 185.199.110.133, ...\n",
            "Connecting to raw.githubusercontent.com (raw.githubusercontent.com)|185.199.108.133|:443... connected.\n",
            "HTTP request sent, awaiting response... 200 OK\n",
            "Length: 1640 (1.6K) [text/plain]\n",
            "Saving to: ‘dataloaders.py.1’\n",
            "\n",
            "dataloaders.py.1    100%[===================>]   1.60K  --.-KB/s    in 0s      \n",
            "\n",
            "2021-02-27 22:45:53 (42.5 MB/s) - ‘dataloaders.py.1’ saved [1640/1640]\n",
            "\n",
            "--2021-02-27 22:45:53--  https://raw.githubusercontent.com/parth-mango/EVA5-Assignments/main/EVA5%20S8/misc.py\n",
            "Resolving raw.githubusercontent.com (raw.githubusercontent.com)... 185.199.111.133, 185.199.109.133, 185.199.108.133, ...\n",
            "Connecting to raw.githubusercontent.com (raw.githubusercontent.com)|185.199.111.133|:443... connected.\n",
            "HTTP request sent, awaiting response... 200 OK\n",
            "Length: 553 [text/plain]\n",
            "Saving to: ‘misc.py’\n",
            "\n",
            "misc.py             100%[===================>]     553  --.-KB/s    in 0s      \n",
            "\n",
            "2021-02-27 22:45:53 (34.4 MB/s) - ‘misc.py’ saved [553/553]\n",
            "\n",
            "--2021-02-27 22:45:53--  https://raw.githubusercontent.com/parth-mango/EVA5-Assignments/main/EVA%20S11/model.py\n",
            "Resolving raw.githubusercontent.com (raw.githubusercontent.com)... 185.199.108.133, 185.199.109.133, 185.199.110.133, ...\n",
            "Connecting to raw.githubusercontent.com (raw.githubusercontent.com)|185.199.108.133|:443... connected.\n",
            "HTTP request sent, awaiting response... 200 OK\n",
            "Length: 1804 (1.8K) [text/plain]\n",
            "Saving to: ‘model.py’\n",
            "\n",
            "model.py            100%[===================>]   1.76K  --.-KB/s    in 0s      \n",
            "\n",
            "2021-02-27 22:45:53 (46.6 MB/s) - ‘model.py’ saved [1804/1804]\n",
            "\n",
            "--2021-02-27 22:45:53--  https://raw.githubusercontent.com/parth-mango/EVA5-Assignments/main/EVA%20S11/cyclic_plot.py\n",
            "Resolving raw.githubusercontent.com (raw.githubusercontent.com)... 185.199.109.133, 185.199.108.133, 185.199.111.133, ...\n",
            "Connecting to raw.githubusercontent.com (raw.githubusercontent.com)|185.199.109.133|:443... connected.\n",
            "HTTP request sent, awaiting response... 200 OK\n",
            "Length: 383 [text/plain]\n",
            "Saving to: ‘cyclic_plot.py.1’\n",
            "\n",
            "cyclic_plot.py.1    100%[===================>]     383  --.-KB/s    in 0s      \n",
            "\n",
            "2021-02-27 22:45:54 (28.6 MB/s) - ‘cyclic_plot.py.1’ saved [383/383]\n",
            "\n",
            "--2021-02-27 22:45:54--  https://raw.githubusercontent.com/parth-mango/EVA5-Assignments/main/EVA%20S11/reg_tech.py\n",
            "Resolving raw.githubusercontent.com (raw.githubusercontent.com)... 185.199.108.133, 185.199.109.133, 185.199.110.133, ...\n",
            "Connecting to raw.githubusercontent.com (raw.githubusercontent.com)|185.199.108.133|:443... connected.\n",
            "HTTP request sent, awaiting response... 200 OK\n",
            "Length: 158 [text/plain]\n",
            "Saving to: ‘reg_tech.py.1’\n",
            "\n",
            "reg_tech.py.1       100%[===================>]     158  --.-KB/s    in 0s      \n",
            "\n",
            "2021-02-27 22:45:54 (12.7 MB/s) - ‘reg_tech.py.1’ saved [158/158]\n",
            "\n",
            "--2021-02-27 22:45:54--  https://raw.githubusercontent.com/parth-mango/EVA5-Assignments/main/EVA%20S11/testing.py\n",
            "Resolving raw.githubusercontent.com (raw.githubusercontent.com)... 185.199.108.133, 185.199.109.133, 185.199.110.133, ...\n",
            "Connecting to raw.githubusercontent.com (raw.githubusercontent.com)|185.199.108.133|:443... connected.\n",
            "HTTP request sent, awaiting response... 200 OK\n",
            "Length: 1108 (1.1K) [text/plain]\n",
            "Saving to: ‘testing.py.1’\n",
            "\n",
            "testing.py.1        100%[===================>]   1.08K  --.-KB/s    in 0s      \n",
            "\n",
            "2021-02-27 22:45:54 (80.3 MB/s) - ‘testing.py.1’ saved [1108/1108]\n",
            "\n",
            "--2021-02-27 22:45:54--  https://raw.githubusercontent.com/parth-mango/EVA5-Assignments/main/EVA%20S11/training.py\n",
            "Resolving raw.githubusercontent.com (raw.githubusercontent.com)... 185.199.108.133, 185.199.109.133, 185.199.110.133, ...\n",
            "Connecting to raw.githubusercontent.com (raw.githubusercontent.com)|185.199.108.133|:443... connected.\n",
            "HTTP request sent, awaiting response... 200 OK\n",
            "Length: 1134 (1.1K) [text/plain]\n",
            "Saving to: ‘training.py.1’\n",
            "\n",
            "training.py.1       100%[===================>]   1.11K  --.-KB/s    in 0s      \n",
            "\n",
            "2021-02-27 22:45:54 (79.8 MB/s) - ‘training.py.1’ saved [1134/1134]\n",
            "\n"
          ],
          "name": "stdout"
        }
      ]
    },
    {
      "cell_type": "code",
      "metadata": {
        "id": "ll32NBzh3T-t"
      },
      "source": [
        "from __future__ import print_function\r\n",
        "import torch\r\n",
        "import torch.nn as nn\r\n",
        "import torch.nn.functional as F\r\n",
        "import torch.optim as optim\r\n",
        "from torchvision import datasets, transforms"
      ],
      "execution_count": null,
      "outputs": []
    },
    {
      "cell_type": "code",
      "metadata": {
        "id": "qm5mxj-x3wCJ"
      },
      "source": [
        "# from QuizDNN import Net\r\n",
        "import training\r\n",
        "import reg_tech\r\n",
        "import testing\r\n",
        "import dataloaders\r\n",
        "import album_transform \r\n",
        "use_cuda = torch.cuda.is_available()\r\n",
        "device = torch.device(\"cuda\" if use_cuda else \"cpu\")\r\n",
        "\r\n",
        "\r\n",
        "\r\n",
        "\r\n",
        "\r\n",
        "\r\n",
        "classes = ('plane', 'car', 'bird', 'cat',\r\n",
        "           'deer', 'dog', 'frog', 'horse', 'ship', 'truck')"
      ],
      "execution_count": null,
      "outputs": []
    },
    {
      "cell_type": "code",
      "metadata": {
        "id": "7mo8lerfIA62"
      },
      "source": [
        "dropout_value= 0.05\r\n",
        "\r\n",
        "class Net(nn.Module):\r\n",
        "    def __init__(self):\r\n",
        "        super(Net, self).__init__()\r\n",
        "        self.conv1 = nn.Conv2d(3, 64, 3, padding=1) \r\n",
        "        self.batch1= nn.BatchNorm2d(64)\r\n",
        "        self.conv2 = nn.Conv2d(64, 128, 3, padding=1)\r\n",
        "        self.pool1 = nn.MaxPool2d(2, 2)\r\n",
        "        self.batch2= nn.BatchNorm2d(128) \r\n",
        "        self.conv_res1 = nn.Conv2d(128, 128, 3, padding=1)\r\n",
        "        self.batch_res1= nn.BatchNorm2d(128) \r\n",
        "        self.conv3 = nn.Conv2d(128, 256, 3)\r\n",
        "        self.batch3= nn.BatchNorm2d(256) \r\n",
        "        self.conv4 = nn.Conv2d(256, 512, 3, padding=1)\r\n",
        "        self.batch4= nn.BatchNorm2d(512) \r\n",
        "        self.conv_res2 = nn.Conv2d(512, 512, 3, padding=1)\r\n",
        "        self.batch_res2= nn.BatchNorm2d(512) \r\n",
        "        self.pool2 = nn.MaxPool2d(stride= 2, kernel_size= 4)\r\n",
        "        self.flat= nn.Flatten()\r\n",
        "        self.drop= nn.Dropout(dropout_value)\r\n",
        "        self.dense= nn.Linear(2048, 10)\r\n",
        "\r\n",
        "\r\n",
        "\r\n",
        "\r\n",
        "    def forward(self, x):\r\n",
        "      x= self.drop(F.relu(self.batch1(self.conv1(x))))\r\n",
        "      x= self.drop(F.relu(self.batch2(self.pool1(self.conv2(x)))))\r\n",
        "      res_x1= F.relu(self.batch_res1(self.conv_res1(x)))\r\n",
        "      res_x1= F.relu(self.batch_res1(self.conv_res1(res_x1)))\r\n",
        "      f_x1=  torch.add(x, res_x1) # Can also be directly added \r\n",
        "      f_x1=self.drop( F.relu(self.batch3(self.pool1(self.conv3(f_x1)))))\r\n",
        "      f_x1= self.drop(F.relu(self.batch4(self.conv4(f_x1))))\r\n",
        "      res_x2= F.relu(self.batch_res2(self.conv_res2(f_x1)))\r\n",
        "      res_x2= F.relu(self.batch_res2(self.conv_res2(res_x2)))\r\n",
        "      f_x2=  torch.add(f_x1, res_x2)\r\n",
        "      f_x2= self.pool2(f_x2)\r\n",
        "      f_x2= self.drop(self.flat(f_x2))\r\n",
        "      f_x2= self.dense(f_x2)\r\n",
        "      f_x2 = f_x2.view(-1, 10)\r\n",
        "      return F.log_softmax(f_x2) \r\n",
        "      # return f_x2\r\n",
        "      \r\n",
        "\r\n",
        "\r\n",
        "\r\n",
        "\r\n",
        "\r\n",
        "\r\n",
        "      "
      ],
      "execution_count": null,
      "outputs": []
    },
    {
      "cell_type": "code",
      "metadata": {
        "colab": {
          "base_uri": "https://localhost:8080/"
        },
        "id": "tRbm6MhB2LEc",
        "outputId": "631efcf8-3279-491d-d946-f92d3a761d50"
      },
      "source": [
        "from torchsummary import summary\r\n",
        "\r\n",
        "net = Net()\r\n",
        "\r\n",
        "use_cuda = torch.cuda.is_available()\r\n",
        "device = torch.device(\"cuda\" if use_cuda else \"cpu\")\r\n",
        "model = net.to(device)\r\n",
        "summary(model, input_size=(3, 32, 32))"
      ],
      "execution_count": null,
      "outputs": [
        {
          "output_type": "stream",
          "text": [
            "----------------------------------------------------------------\n",
            "        Layer (type)               Output Shape         Param #\n",
            "================================================================\n",
            "            Conv2d-1           [-1, 64, 32, 32]           1,792\n",
            "       BatchNorm2d-2           [-1, 64, 32, 32]             128\n",
            "           Dropout-3           [-1, 64, 32, 32]               0\n",
            "            Conv2d-4          [-1, 128, 32, 32]          73,856\n",
            "         MaxPool2d-5          [-1, 128, 16, 16]               0\n",
            "       BatchNorm2d-6          [-1, 128, 16, 16]             256\n",
            "           Dropout-7          [-1, 128, 16, 16]               0\n",
            "            Conv2d-8          [-1, 128, 16, 16]         147,584\n",
            "       BatchNorm2d-9          [-1, 128, 16, 16]             256\n",
            "           Conv2d-10          [-1, 128, 16, 16]         147,584\n",
            "      BatchNorm2d-11          [-1, 128, 16, 16]             256\n",
            "           Conv2d-12          [-1, 256, 14, 14]         295,168\n",
            "        MaxPool2d-13            [-1, 256, 7, 7]               0\n",
            "      BatchNorm2d-14            [-1, 256, 7, 7]             512\n",
            "          Dropout-15            [-1, 256, 7, 7]               0\n",
            "           Conv2d-16            [-1, 512, 7, 7]       1,180,160\n",
            "      BatchNorm2d-17            [-1, 512, 7, 7]           1,024\n",
            "          Dropout-18            [-1, 512, 7, 7]               0\n",
            "           Conv2d-19            [-1, 512, 7, 7]       2,359,808\n",
            "      BatchNorm2d-20            [-1, 512, 7, 7]           1,024\n",
            "           Conv2d-21            [-1, 512, 7, 7]       2,359,808\n",
            "      BatchNorm2d-22            [-1, 512, 7, 7]           1,024\n",
            "        MaxPool2d-23            [-1, 512, 2, 2]               0\n",
            "          Flatten-24                 [-1, 2048]               0\n",
            "          Dropout-25                 [-1, 2048]               0\n",
            "           Linear-26                   [-1, 10]          20,490\n",
            "================================================================\n",
            "Total params: 6,590,730\n",
            "Trainable params: 6,590,730\n",
            "Non-trainable params: 0\n",
            "----------------------------------------------------------------\n",
            "Input size (MB): 0.01\n",
            "Forward/backward pass size (MB): 6.31\n",
            "Params size (MB): 25.14\n",
            "Estimated Total Size (MB): 31.46\n",
            "----------------------------------------------------------------\n"
          ],
          "name": "stdout"
        },
        {
          "output_type": "stream",
          "text": [
            "/usr/local/lib/python3.7/dist-packages/ipykernel_launcher.py:42: UserWarning: Implicit dimension choice for log_softmax has been deprecated. Change the call to include dim=X as an argument.\n"
          ],
          "name": "stderr"
        }
      ]
    },
    {
      "cell_type": "code",
      "metadata": {
        "id": "UNn_hkCr62xz"
      },
      "source": [
        "train_losses = []\r\n",
        "test_losses = []"
      ],
      "execution_count": null,
      "outputs": []
    },
    {
      "cell_type": "code",
      "metadata": {
        "colab": {
          "base_uri": "https://localhost:8080/"
        },
        "id": "V1sVbQm6vQvS",
        "outputId": "ea4b22ad-911f-495c-9069-de754b5ee0a8"
      },
      "source": [
        "from album_transform import train_transform, test_transform\r\n",
        "\r\n",
        "batch_size = 512\r\n",
        "train_loader, test_loader, sample_loader = dataloaders.data_loaders(batch_size, train_transform, test_transform)\r\n",
        "\r\n",
        "    \r\n",
        "# def hi_optimizer(model):\r\n",
        "#     optimizer = optim.SGD(model.parameters(), lr=0.001, momentum=0.9)\r\n",
        "#     return optimizer\r\n",
        "optimizer= reg_tech.hi_optimizer(model, 0.001)\r\n",
        "\r\n",
        "# print(len(train_loader))\r\n",
        "# optimizer= hi_optimizer(model)"
      ],
      "execution_count": null,
      "outputs": [
        {
          "output_type": "stream",
          "text": [
            "Files already downloaded and verified\n",
            "Files already downloaded and verified\n"
          ],
          "name": "stdout"
        }
      ]
    },
    {
      "cell_type": "code",
      "metadata": {
        "id": "Uv6TkP-Rt4ts",
        "colab": {
          "base_uri": "https://localhost:8080/",
          "height": 192
        },
        "outputId": "a414ebea-6cf6-4266-f8e7-2539e13f61f7"
      },
      "source": [
        "import misc\r\n",
        "\r\n",
        "misc.show_images(sample_loader, classes)"
      ],
      "execution_count": null,
      "outputs": [
        {
          "output_type": "stream",
          "text": [
            "Clipping input data to the valid range for imshow with RGB data ([0..1] for floats or [0..255] for integers).\n"
          ],
          "name": "stderr"
        },
        {
          "output_type": "stream",
          "text": [
            " deer   car horse   dog\n"
          ],
          "name": "stdout"
        },
        {
          "output_type": "display_data",
          "data": {
            "image/png": "[encoded data removed]",
            "text/plain": [
              "<Figure size 432x288 with 1 Axes>"
            ]
          },
          "metadata": {
            "tags": [],
            "needs_background": "light"
          }
        }
      ]
    },
    {
      "cell_type": "code",
      "metadata": {
        "colab": {
          "base_uri": "https://localhost:8080/"
        },
        "id": "GgZR15ctkj6P",
        "outputId": "0fc7d7d8-ec34-4d0c-b2be-dbacd3ed2a96"
      },
      "source": [
        "# !pip install torch-lr-finder\r\n"
      ],
      "execution_count": null,
      "outputs": [
        {
          "output_type": "stream",
          "text": [
            "Collecting torch-lr-finder\n",
            "  Downloading https://files.pythonhosted.org/packages/ea/51/1a869067989a0fdaf18e49f0ee3aebfcb63470525245aac7dc390cfc676a/torch_lr_finder-0.2.1-py3-none-any.whl\n",
            "Requirement already satisfied: tqdm in /usr/local/lib/python3.7/dist-packages (from torch-lr-finder) (4.41.1)\n",
            "Requirement already satisfied: numpy in /usr/local/lib/python3.7/dist-packages (from torch-lr-finder) (1.19.5)\n",
            "Requirement already satisfied: torch>=0.4.1 in /usr/local/lib/python3.7/dist-packages (from torch-lr-finder) (1.7.1+cu101)\n",
            "Requirement already satisfied: matplotlib in /usr/local/lib/python3.7/dist-packages (from torch-lr-finder) (3.2.2)\n",
            "Requirement already satisfied: packaging in /usr/local/lib/python3.7/dist-packages (from torch-lr-finder) (20.9)\n",
            "Requirement already satisfied: typing-extensions in /usr/local/lib/python3.7/dist-packages (from torch>=0.4.1->torch-lr-finder) (3.7.4.3)\n",
            "Requirement already satisfied: cycler>=0.10 in /usr/local/lib/python3.7/dist-packages (from matplotlib->torch-lr-finder) (0.10.0)\n",
            "Requirement already satisfied: pyparsing!=2.0.4,!=2.1.2,!=2.1.6,>=2.0.1 in /usr/local/lib/python3.7/dist-packages (from matplotlib->torch-lr-finder) (2.4.7)\n",
            "Requirement already satisfied: python-dateutil>=2.1 in /usr/local/lib/python3.7/dist-packages (from matplotlib->torch-lr-finder) (2.8.1)\n",
            "Requirement already satisfied: kiwisolver>=1.0.1 in /usr/local/lib/python3.7/dist-packages (from matplotlib->torch-lr-finder) (1.3.1)\n",
            "Requirement already satisfied: six in /usr/local/lib/python3.7/dist-packages (from cycler>=0.10->matplotlib->torch-lr-finder) (1.15.0)\n",
            "Installing collected packages: torch-lr-finder\n",
            "Successfully installed torch-lr-finder-0.2.1\n"
          ],
          "name": "stdout"
        }
      ]
    },
    {
      "cell_type": "code",
      "metadata": {
        "colab": {
          "base_uri": "https://localhost:8080/",
          "height": 119,
          "referenced_widgets": [
            "02977b56a13a4d098b7c5df604437d72",
            "a383db8dded440c989058b959fa64dc0",
            "99416e35581e4cef9a8b836221993fb4",
            "0a5e45275a8e414b93d4da5ed408d1e6",
            "130faac1c4664a18939a23c71f087070",
            "21b0918768484051924492a8caf17e14",
            "86e193c8bea748adb9379f26c7d68e2e",
            "f9282a4553c14121910ad5e8a872b4e7"
          ]
        },
        "id": "fada38xHlhB6",
        "outputId": "c603c8f6-0114-48f0-e478-9397aa493998"
      },
      "source": [
        "from torch_lr_finder import LRFinder\r\n",
        "\r\n",
        "\r\n",
        "model = net.to(device)\r\n",
        "optimizer_testing = reg_tech.hi_optimizer(model, 0.0005)\r\n",
        "criterion = nn.CrossEntropyLoss()\r\n",
        "lr_finder = LRFinder(model, optimizer_testing, criterion, device=\"cuda\")\r\n",
        "lr_finder.range_test(train_loader, end_lr=0.1, num_iter=2500, step_mode=\"exp\", diverge_th=20)"
      ],
      "execution_count": null,
      "outputs": [
        {
          "output_type": "display_data",
          "data": {
            "application/vnd.jupyter.widget-view+json": {
              "model_id": "02977b56a13a4d098b7c5df604437d72",
              "version_minor": 0,
              "version_major": 2
            },
            "text/plain": [
              "HBox(children=(FloatProgress(value=0.0, max=2500.0), HTML(value='')))"
            ]
          },
          "metadata": {
            "tags": []
          }
        },
        {
          "output_type": "stream",
          "text": [
            "/usr/local/lib/python3.7/dist-packages/ipykernel_launcher.py:42: UserWarning: Implicit dimension choice for log_softmax has been deprecated. Change the call to include dim=X as an argument.\n"
          ],
          "name": "stderr"
        },
        {
          "output_type": "stream",
          "text": [
            "\n",
            "Learning rate search finished. See the graph with {finder_name}.plot()\n"
          ],
          "name": "stdout"
        }
      ]
    },
    {
      "cell_type": "code",
      "metadata": {
        "colab": {
          "base_uri": "https://localhost:8080/",
          "height": 298
        },
        "id": "WDUv4hrdly0F",
        "outputId": "aef85d8b-ae51-404b-cb24-059e1026cc62"
      },
      "source": [
        "lr_finder.plot(suggest_lr=False, log_lr=False)"
      ],
      "execution_count": null,
      "outputs": [
        {
          "output_type": "display_data",
          "data": {
            "image/png": "[encoded data removed]",
            "text/plain": [
              "<Figure size 432x288 with 1 Axes>"
            ]
          },
          "metadata": {
            "tags": [],
            "needs_background": "light"
          }
        },
        {
          "output_type": "execute_result",
          "data": {
            "text/plain": [
              "<matplotlib.axes._subplots.AxesSubplot at 0x7f86f1506390>"
            ]
          },
          "metadata": {
            "tags": []
          },
          "execution_count": 7
        }
      ]
    },
    {
      "cell_type": "code",
      "metadata": {
        "colab": {
          "base_uri": "https://localhost:8080/"
        },
        "id": "NmGxjLw05wLD",
        "outputId": "e530f906-b651-422d-fb65-9e368d881a4f"
      },
      "source": [
        "\r\n",
        "scheduler = optim.lr_scheduler.OneCycleLR(optimizer, \r\n",
        "max_lr= 0.01, epochs=25, steps_per_epoch= 100 ,pct_start= 0.22 )\r\n",
        "for epoch in range(1, 26):\r\n",
        "    \r\n",
        "    training.train(model, device, train_loader, optimizer, epoch, scheduler)\r\n",
        "    \r\n",
        "    testing.test(model, device, test_loader)\r\n",
        "    \r\n",
        "    \r\n",
        "    \r\n",
        "    print('Epoch-{0} lr: {1}'.format(epoch,optimizer.param_groups[0]['lr']))"
      ],
      "execution_count": null,
      "outputs": [
        {
          "output_type": "stream",
          "text": [
            "  0%|          | 0/98 [00:00<?, ?it/s]/usr/local/lib/python3.7/dist-packages/ipykernel_launcher.py:42: UserWarning: Implicit dimension choice for log_softmax has been deprecated. Change the call to include dim=X as an argument.\n",
            "Loss=1.3937633037567139 Batch_id=97 Accuracy=32.89: 100%|██████████| 98/98 [00:27<00:00,  3.57it/s]\n",
            "  0%|          | 0/98 [00:00<?, ?it/s]"
          ],
          "name": "stderr"
        },
        {
          "output_type": "stream",
          "text": [
            "\n",
            "Test set: Average loss: 0.0028, Accuracy: 4920/10000 (49.20%)\n",
            "\n",
            "Epoch-1 lr: 0.0011352020150605328\n"
          ],
          "name": "stdout"
        },
        {
          "output_type": "stream",
          "text": [
            "Loss=1.5008649826049805 Batch_id=97 Accuracy=51.73: 100%|██████████| 98/98 [00:27<00:00,  3.51it/s]\n",
            "  0%|          | 0/98 [00:00<?, ?it/s]"
          ],
          "name": "stderr"
        },
        {
          "output_type": "stream",
          "text": [
            "\n",
            "Test set: Average loss: 0.0025, Accuracy: 5602/10000 (56.02%)\n",
            "\n",
            "Epoch-2 lr: 0.0031155905590133518\n"
          ],
          "name": "stdout"
        },
        {
          "output_type": "stream",
          "text": [
            "Loss=1.0410172939300537 Batch_id=97 Accuracy=60.21: 100%|██████████| 98/98 [00:28<00:00,  3.42it/s]\n",
            "  0%|          | 0/98 [00:00<?, ?it/s]"
          ],
          "name": "stderr"
        },
        {
          "output_type": "stream",
          "text": [
            "\n",
            "Test set: Average loss: 0.0027, Accuracy: 5962/10000 (59.62%)\n",
            "\n",
            "Epoch-3 lr: 0.005734504945143082\n"
          ],
          "name": "stdout"
        },
        {
          "output_type": "stream",
          "text": [
            "Loss=0.8152998089790344 Batch_id=97 Accuracy=67.84: 100%|██████████| 98/98 [00:28<00:00,  3.38it/s]\n",
            "  0%|          | 0/98 [00:00<?, ?it/s]"
          ],
          "name": "stderr"
        },
        {
          "output_type": "stream",
          "text": [
            "\n",
            "Test set: Average loss: 0.0017, Accuracy: 7172/10000 (71.72%)\n",
            "\n",
            "Epoch-4 lr: 0.008189682200969056\n"
          ],
          "name": "stdout"
        },
        {
          "output_type": "stream",
          "text": [
            "Loss=0.826616108417511 Batch_id=97 Accuracy=73.45: 100%|██████████| 98/98 [00:29<00:00,  3.33it/s]\n",
            "  0%|          | 0/98 [00:00<?, ?it/s]"
          ],
          "name": "stderr"
        },
        {
          "output_type": "stream",
          "text": [
            "\n",
            "Test set: Average loss: 0.0017, Accuracy: 7246/10000 (72.46%)\n",
            "\n",
            "Epoch-5 lr: 0.009729017632402089\n"
          ],
          "name": "stdout"
        },
        {
          "output_type": "stream",
          "text": [
            "Loss=0.5908604860305786 Batch_id=97 Accuracy=77.48: 100%|██████████| 98/98 [00:29<00:00,  3.28it/s]\n",
            "  0%|          | 0/98 [00:00<?, ?it/s]"
          ],
          "name": "stderr"
        },
        {
          "output_type": "stream",
          "text": [
            "\n",
            "Test set: Average loss: 0.0018, Accuracy: 7118/10000 (71.18%)\n",
            "\n",
            "Epoch-6 lr: 0.00999013368160679\n"
          ],
          "name": "stdout"
        },
        {
          "output_type": "stream",
          "text": [
            "Loss=0.6466454863548279 Batch_id=97 Accuracy=79.81: 100%|██████████| 98/98 [00:30<00:00,  3.20it/s]\n",
            "  0%|          | 0/98 [00:00<?, ?it/s]"
          ],
          "name": "stderr"
        },
        {
          "output_type": "stream",
          "text": [
            "\n",
            "Test set: Average loss: 0.0011, Accuracy: 8130/10000 (81.30%)\n",
            "\n",
            "Epoch-7 lr: 0.009878704100019049\n"
          ],
          "name": "stdout"
        },
        {
          "output_type": "stream",
          "text": [
            "Loss=0.4859103262424469 Batch_id=97 Accuracy=83.39: 100%|██████████| 98/98 [00:30<00:00,  3.20it/s]\n",
            "  0%|          | 0/98 [00:00<?, ?it/s]"
          ],
          "name": "stderr"
        },
        {
          "output_type": "stream",
          "text": [
            "\n",
            "Test set: Average loss: 0.0016, Accuracy: 7572/10000 (75.72%)\n",
            "\n",
            "Epoch-8 lr: 0.009645912435938387\n"
          ],
          "name": "stdout"
        },
        {
          "output_type": "stream",
          "text": [
            "Loss=0.4711410403251648 Batch_id=97 Accuracy=84.66: 100%|██████████| 98/98 [00:30<00:00,  3.23it/s]\n",
            "  0%|          | 0/98 [00:00<?, ?it/s]"
          ],
          "name": "stderr"
        },
        {
          "output_type": "stream",
          "text": [
            "\n",
            "Test set: Average loss: 0.0013, Accuracy: 7820/10000 (78.20%)\n",
            "\n",
            "Epoch-9 lr: 0.009297549611785819\n"
          ],
          "name": "stdout"
        },
        {
          "output_type": "stream",
          "text": [
            "Loss=0.39485612511634827 Batch_id=97 Accuracy=86.44: 100%|██████████| 98/98 [00:30<00:00,  3.22it/s]\n",
            "  0%|          | 0/98 [00:00<?, ?it/s]"
          ],
          "name": "stderr"
        },
        {
          "output_type": "stream",
          "text": [
            "\n",
            "Test set: Average loss: 0.0011, Accuracy: 8173/10000 (81.73%)\n",
            "\n",
            "Epoch-10 lr: 0.008842281496663645\n"
          ],
          "name": "stdout"
        },
        {
          "output_type": "stream",
          "text": [
            "Loss=0.4108116924762726 Batch_id=97 Accuracy=87.01: 100%|██████████| 98/98 [00:30<00:00,  3.19it/s]\n",
            "  0%|          | 0/98 [00:00<?, ?it/s]"
          ],
          "name": "stderr"
        },
        {
          "output_type": "stream",
          "text": [
            "\n",
            "Test set: Average loss: 0.0011, Accuracy: 8289/10000 (82.89%)\n",
            "\n",
            "Epoch-11 lr: 0.008291433334307907\n"
          ],
          "name": "stdout"
        },
        {
          "output_type": "stream",
          "text": [
            "Loss=0.40014517307281494 Batch_id=97 Accuracy=89.15: 100%|██████████| 98/98 [00:30<00:00,  3.21it/s]\n",
            "  0%|          | 0/98 [00:00<?, ?it/s]"
          ],
          "name": "stderr"
        },
        {
          "output_type": "stream",
          "text": [
            "\n",
            "Test set: Average loss: 0.0010, Accuracy: 8323/10000 (83.23%)\n",
            "\n",
            "Epoch-12 lr: 0.007658708016471861\n"
          ],
          "name": "stdout"
        },
        {
          "output_type": "stream",
          "text": [
            "Loss=0.27438053488731384 Batch_id=97 Accuracy=90.29: 100%|██████████| 98/98 [00:30<00:00,  3.20it/s]\n",
            "  0%|          | 0/98 [00:00<?, ?it/s]"
          ],
          "name": "stderr"
        },
        {
          "output_type": "stream",
          "text": [
            "\n",
            "Test set: Average loss: 0.0010, Accuracy: 8444/10000 (84.44%)\n",
            "\n",
            "Epoch-13 lr: 0.006959845209968178\n"
          ],
          "name": "stdout"
        },
        {
          "output_type": "stream",
          "text": [
            "Loss=0.266958087682724 Batch_id=97 Accuracy=91.04: 100%|██████████| 98/98 [00:30<00:00,  3.20it/s]\n",
            "  0%|          | 0/98 [00:00<?, ?it/s]"
          ],
          "name": "stderr"
        },
        {
          "output_type": "stream",
          "text": [
            "\n",
            "Test set: Average loss: 0.0010, Accuracy: 8443/10000 (84.43%)\n",
            "\n",
            "Epoch-14 lr: 0.0062122298169211415\n"
          ],
          "name": "stdout"
        },
        {
          "output_type": "stream",
          "text": [
            "Loss=0.20446200668811798 Batch_id=97 Accuracy=92.13: 100%|██████████| 98/98 [00:30<00:00,  3.21it/s]\n",
            "  0%|          | 0/98 [00:00<?, ?it/s]"
          ],
          "name": "stderr"
        },
        {
          "output_type": "stream",
          "text": [
            "\n",
            "Test set: Average loss: 0.0009, Accuracy: 8570/10000 (85.70%)\n",
            "\n",
            "Epoch-15 lr: 0.00543445950816654\n"
          ],
          "name": "stdout"
        },
        {
          "output_type": "stream",
          "text": [
            "Loss=0.20692791044712067 Batch_id=97 Accuracy=93.30: 100%|██████████| 98/98 [00:30<00:00,  3.21it/s]\n",
            "  0%|          | 0/98 [00:00<?, ?it/s]"
          ],
          "name": "stderr"
        },
        {
          "output_type": "stream",
          "text": [
            "\n",
            "Test set: Average loss: 0.0010, Accuracy: 8502/10000 (85.02%)\n",
            "\n",
            "Epoch-16 lr: 0.004645882087832798\n"
          ],
          "name": "stdout"
        },
        {
          "output_type": "stream",
          "text": [
            "Loss=0.21196681261062622 Batch_id=97 Accuracy=94.18: 100%|██████████| 98/98 [00:30<00:00,  3.21it/s]\n",
            "  0%|          | 0/98 [00:00<?, ?it/s]"
          ],
          "name": "stderr"
        },
        {
          "output_type": "stream",
          "text": [
            "\n",
            "Test set: Average loss: 0.0010, Accuracy: 8569/10000 (85.69%)\n",
            "\n",
            "Epoch-17 lr: 0.0038661141976160255\n"
          ],
          "name": "stdout"
        },
        {
          "output_type": "stream",
          "text": [
            "Loss=0.16378070414066315 Batch_id=97 Accuracy=95.10: 100%|██████████| 98/98 [00:30<00:00,  3.20it/s]\n",
            "  0%|          | 0/98 [00:00<?, ?it/s]"
          ],
          "name": "stderr"
        },
        {
          "output_type": "stream",
          "text": [
            "\n",
            "Test set: Average loss: 0.0009, Accuracy: 8589/10000 (85.89%)\n",
            "\n",
            "Epoch-18 lr: 0.003114553333455232\n"
          ],
          "name": "stdout"
        },
        {
          "output_type": "stream",
          "text": [
            "Loss=0.13917207717895508 Batch_id=97 Accuracy=95.84: 100%|██████████| 98/98 [00:30<00:00,  3.20it/s]\n",
            "  0%|          | 0/98 [00:00<?, ?it/s]"
          ],
          "name": "stderr"
        },
        {
          "output_type": "stream",
          "text": [
            "\n",
            "Test set: Average loss: 0.0009, Accuracy: 8696/10000 (86.96%)\n",
            "\n",
            "Epoch-19 lr: 0.0024098953136745373\n"
          ],
          "name": "stdout"
        },
        {
          "output_type": "stream",
          "text": [
            "Loss=0.0738271102309227 Batch_id=97 Accuracy=96.24: 100%|██████████| 98/98 [00:30<00:00,  3.20it/s]\n",
            "  0%|          | 0/98 [00:00<?, ?it/s]"
          ],
          "name": "stderr"
        },
        {
          "output_type": "stream",
          "text": [
            "\n",
            "Test set: Average loss: 0.0008, Accuracy: 8730/10000 (87.30%)\n",
            "\n",
            "Epoch-20 lr: 0.0017696692020486553\n"
          ],
          "name": "stdout"
        },
        {
          "output_type": "stream",
          "text": [
            "Loss=0.07824673503637314 Batch_id=97 Accuracy=97.05: 100%|██████████| 98/98 [00:30<00:00,  3.20it/s]\n",
            "  0%|          | 0/98 [00:00<?, ?it/s]"
          ],
          "name": "stderr"
        },
        {
          "output_type": "stream",
          "text": [
            "\n",
            "Test set: Average loss: 0.0009, Accuracy: 8727/10000 (87.27%)\n",
            "\n",
            "Epoch-21 lr: 0.0012098012550394383\n"
          ],
          "name": "stdout"
        },
        {
          "output_type": "stream",
          "text": [
            "Loss=0.07201376557350159 Batch_id=97 Accuracy=97.52: 100%|██████████| 98/98 [00:30<00:00,  3.20it/s]\n",
            "  0%|          | 0/98 [00:00<?, ?it/s]"
          ],
          "name": "stderr"
        },
        {
          "output_type": "stream",
          "text": [
            "\n",
            "Test set: Average loss: 0.0008, Accuracy: 8810/10000 (88.10%)\n",
            "\n",
            "Epoch-22 lr: 0.000744218740446377\n"
          ],
          "name": "stdout"
        },
        {
          "output_type": "stream",
          "text": [
            "Loss=0.0921240746974945 Batch_id=97 Accuracy=97.87: 100%|██████████| 98/98 [00:30<00:00,  3.20it/s]\n",
            "  0%|          | 0/98 [00:00<?, ?it/s]"
          ],
          "name": "stderr"
        },
        {
          "output_type": "stream",
          "text": [
            "\n",
            "Test set: Average loss: 0.0008, Accuracy: 8791/10000 (87.91%)\n",
            "\n",
            "Epoch-23 lr: 0.0003845034828731732\n"
          ],
          "name": "stdout"
        },
        {
          "output_type": "stream",
          "text": [
            "Loss=0.07283607125282288 Batch_id=97 Accuracy=98.11: 100%|██████████| 98/98 [00:30<00:00,  3.19it/s]\n",
            "  0%|          | 0/98 [00:00<?, ?it/s]"
          ],
          "name": "stderr"
        },
        {
          "output_type": "stream",
          "text": [
            "\n",
            "Test set: Average loss: 0.0008, Accuracy: 8776/10000 (87.76%)\n",
            "\n",
            "Epoch-24 lr: 0.00013960375440889213\n"
          ],
          "name": "stdout"
        },
        {
          "output_type": "stream",
          "text": [
            "Loss=0.05605147406458855 Batch_id=97 Accuracy=98.24: 100%|██████████| 98/98 [00:30<00:00,  3.20it/s]\n"
          ],
          "name": "stderr"
        },
        {
          "output_type": "stream",
          "text": [
            "\n",
            "Test set: Average loss: 0.0008, Accuracy: 8807/10000 (88.07%)\n",
            "\n",
            "Epoch-25 lr: 1.5611677527350335e-05\n"
          ],
          "name": "stdout"
        }
      ]
    },
    {
      "cell_type": "code",
      "metadata": {
        "id": "uDZUoRIwjgzv",
        "colab": {
          "base_uri": "https://localhost:8080/",
          "height": 282
        },
        "outputId": "5f13328a-b931-4040-9c94-123bab6ed06c"
      },
      "source": [
        "# min_lr= 0.001125 , max_lr= 0.009\r\n",
        "import matplotlib.pyplot as plt\r\n",
        "plt.plot(training.lr_list, training.train_acc)\r\n"
      ],
      "execution_count": null,
      "outputs": [
        {
          "output_type": "execute_result",
          "data": {
            "text/plain": [
              "[<matplotlib.lines.Line2D at 0x7fd480266dd0>]"
            ]
          },
          "metadata": {
            "tags": []
          },
          "execution_count": 10
        },
        {
          "output_type": "display_data",
          "data": {
            "image/png": "[encoded data removed]",
            "text/plain": [
              "<Figure size 432x288 with 1 Axes>"
            ]
          },
          "metadata": {
            "tags": [],
            "needs_background": "light"
          }
        }
      ]
    },
    {
      "cell_type": "code",
      "metadata": {
        "id": "Kqc2L-Ndjqh-",
        "colab": {
          "base_uri": "https://localhost:8080/",
          "height": 265
        },
        "outputId": "16c0b6ba-038b-480f-ed18-965c78250898"
      },
      "source": [
        "# Plot a graph between LR and iterations\r\n",
        "\r\n",
        "import cyclic_plot\r\n",
        "\r\n",
        "cyclic_plot.triangular_plot(iterations= 2442, stepsize= 500, lr_max= 0.0099901336 , lr_min= 0.00124876)"
      ],
      "execution_count": null,
      "outputs": [
        {
          "output_type": "display_data",
          "data": {
            "image/png": "[encoded data removed]",
            "text/plain": [
              "<Figure size 432x288 with 1 Axes>"
            ]
          },
          "metadata": {
            "tags": [],
            "needs_background": "light"
          }
        }
      ]
    }
  ]
}