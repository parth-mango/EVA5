{
  "nbformat": 4,
  "nbformat_minor": 0,
  "metadata": {
    "colab": {
      "name": "EVA_S9.ipynb",
      "provenance": [],
      "collapsed_sections": [],
      "include_colab_link": true
    },
    "kernelspec": {
      "display_name": "Python 3",
      "name": "python3"
    },
    "accelerator": "GPU"
  },
  "cells": [
    {
      "cell_type": "markdown",
      "metadata": {
        "id": "view-in-github",
        "colab_type": "text"
      },
      "source": [
        "<a href=\"https://colab.research.google.com/github/parth-mango/EVA5-Assignments/blob/main/EVA%20S9/EVA_S9.ipynb\" target=\"_parent\"><img src=\"https://colab.research.google.com/assets/colab-badge.svg\" alt=\"Open In Colab\"/></a>"
      ]
    },
    {
      "cell_type": "code",
      "metadata": {
        "id": "glyqDBfhjcQq"
      },
      "source": [
        "# !pip install -U albumentations"
      ],
      "execution_count": 1,
      "outputs": []
    },
    {
      "cell_type": "code",
      "metadata": {
        "id": "R3fslnfL28NM"
      },
      "source": [
        "# !rm *.py.1\r\n",
        "# !rm *.py"
      ],
      "execution_count": 2,
      "outputs": []
    },
    {
      "cell_type": "code",
      "metadata": {
        "id": "SMJLavCryyO8"
      },
      "source": [
        "# !wget https://raw.githubusercontent.com/parth-mango/EVA5-Assignments/main/EVA%20S9/album_transform.py\r\n",
        "# !wget https://raw.githubusercontent.com/parth-mango/EVA5-Assignments/main/EVA%20S9/dataloaders.py\r\n",
        "# !wget https://raw.githubusercontent.com/parth-mango/EVA5-Assignments/main/EVA%20S9/grad_cam.py\r\n",
        "# !wget https://raw.githubusercontent.com/parth-mango/EVA5-Assignments/main/EVA%20S9/misc.py\r\n",
        "# !wget https://raw.githubusercontent.com/parth-mango/EVA5-Assignments/main/EVA%20S9/model.py\r\n",
        "# !wget https://raw.githubusercontent.com/parth-mango/EVA5-Assignments/main/EVA%20S9/reg_tech.py\r\n",
        "# !wget https://raw.githubusercontent.com/parth-mango/EVA5-Assignments/main/EVA%20S9/resnet.py\r\n",
        "# !wget https://raw.githubusercontent.com/parth-mango/EVA5-Assignments/main/EVA%20S9/testing.py\r\n",
        "# !wget https://raw.githubusercontent.com/parth-mango/EVA5-Assignments/main/EVA%20S9/training.py"
      ],
      "execution_count": 3,
      "outputs": []
    },
    {
      "cell_type": "code",
      "metadata": {
        "id": "ll32NBzh3T-t"
      },
      "source": [
        "from __future__ import print_function\r\n",
        "import torch\r\n",
        "import torch.nn as nn\r\n",
        "import torch.nn.functional as F\r\n",
        "import torch.optim as optim\r\n",
        "from torchvision import datasets, transforms\r\n",
        "from torchsummary import summary"
      ],
      "execution_count": 4,
      "outputs": []
    },
    {
      "cell_type": "code",
      "metadata": {
        "id": "qm5mxj-x3wCJ"
      },
      "source": [
        "from resnet import ResNet18\r\n",
        "import training\r\n",
        "import reg_tech\r\n",
        "import testing\r\n",
        "import dataloaders"
      ],
      "execution_count": 5,
      "outputs": []
    },
    {
      "cell_type": "code",
      "metadata": {
        "colab": {
          "base_uri": "https://localhost:8080/"
        },
        "id": "tRbm6MhB2LEc",
        "outputId": "74dcbe00-f206-458d-d9dc-76fa4856de9a"
      },
      "source": [
        "net= ResNet18()\r\n",
        "\r\n",
        "use_cuda = torch.cuda.is_available()\r\n",
        "device = torch.device(\"cuda\" if use_cuda else \"cpu\")\r\n",
        "model = net.to(device)\r\n",
        "summary(model, input_size=(3, 32, 32))"
      ],
      "execution_count": 6,
      "outputs": [
        {
          "output_type": "stream",
          "text": [
            "----------------------------------------------------------------\n",
            "        Layer (type)               Output Shape         Param #\n",
            "================================================================\n",
            "            Conv2d-1           [-1, 64, 32, 32]           1,728\n",
            "       BatchNorm2d-2           [-1, 64, 32, 32]             128\n",
            "            Conv2d-3           [-1, 64, 32, 32]          36,864\n",
            "       BatchNorm2d-4           [-1, 64, 32, 32]             128\n",
            "            Conv2d-5           [-1, 64, 32, 32]          36,864\n",
            "       BatchNorm2d-6           [-1, 64, 32, 32]             128\n",
            "        BasicBlock-7           [-1, 64, 32, 32]               0\n",
            "            Conv2d-8           [-1, 64, 32, 32]          36,864\n",
            "       BatchNorm2d-9           [-1, 64, 32, 32]             128\n",
            "           Conv2d-10           [-1, 64, 32, 32]          36,864\n",
            "      BatchNorm2d-11           [-1, 64, 32, 32]             128\n",
            "       BasicBlock-12           [-1, 64, 32, 32]               0\n",
            "           Conv2d-13          [-1, 128, 16, 16]          73,728\n",
            "      BatchNorm2d-14          [-1, 128, 16, 16]             256\n",
            "           Conv2d-15          [-1, 128, 16, 16]         147,456\n",
            "      BatchNorm2d-16          [-1, 128, 16, 16]             256\n",
            "           Conv2d-17          [-1, 128, 16, 16]           8,192\n",
            "      BatchNorm2d-18          [-1, 128, 16, 16]             256\n",
            "       BasicBlock-19          [-1, 128, 16, 16]               0\n",
            "           Conv2d-20          [-1, 128, 16, 16]         147,456\n",
            "      BatchNorm2d-21          [-1, 128, 16, 16]             256\n",
            "           Conv2d-22          [-1, 128, 16, 16]         147,456\n",
            "      BatchNorm2d-23          [-1, 128, 16, 16]             256\n",
            "       BasicBlock-24          [-1, 128, 16, 16]               0\n",
            "           Conv2d-25            [-1, 256, 8, 8]         294,912\n",
            "      BatchNorm2d-26            [-1, 256, 8, 8]             512\n",
            "           Conv2d-27            [-1, 256, 8, 8]         589,824\n",
            "      BatchNorm2d-28            [-1, 256, 8, 8]             512\n",
            "           Conv2d-29            [-1, 256, 8, 8]          32,768\n",
            "      BatchNorm2d-30            [-1, 256, 8, 8]             512\n",
            "       BasicBlock-31            [-1, 256, 8, 8]               0\n",
            "           Conv2d-32            [-1, 256, 8, 8]         589,824\n",
            "      BatchNorm2d-33            [-1, 256, 8, 8]             512\n",
            "           Conv2d-34            [-1, 256, 8, 8]         589,824\n",
            "      BatchNorm2d-35            [-1, 256, 8, 8]             512\n",
            "       BasicBlock-36            [-1, 256, 8, 8]               0\n",
            "           Conv2d-37            [-1, 512, 4, 4]       1,179,648\n",
            "      BatchNorm2d-38            [-1, 512, 4, 4]           1,024\n",
            "           Conv2d-39            [-1, 512, 4, 4]       2,359,296\n",
            "      BatchNorm2d-40            [-1, 512, 4, 4]           1,024\n",
            "           Conv2d-41            [-1, 512, 4, 4]         131,072\n",
            "      BatchNorm2d-42            [-1, 512, 4, 4]           1,024\n",
            "       BasicBlock-43            [-1, 512, 4, 4]               0\n",
            "           Conv2d-44            [-1, 512, 4, 4]       2,359,296\n",
            "      BatchNorm2d-45            [-1, 512, 4, 4]           1,024\n",
            "           Conv2d-46            [-1, 512, 4, 4]       2,359,296\n",
            "      BatchNorm2d-47            [-1, 512, 4, 4]           1,024\n",
            "       BasicBlock-48            [-1, 512, 4, 4]               0\n",
            "           Linear-49                   [-1, 10]           5,130\n",
            "================================================================\n",
            "Total params: 11,173,962\n",
            "Trainable params: 11,173,962\n",
            "Non-trainable params: 0\n",
            "----------------------------------------------------------------\n",
            "Input size (MB): 0.01\n",
            "Forward/backward pass size (MB): 11.25\n",
            "Params size (MB): 42.63\n",
            "Estimated Total Size (MB): 53.89\n",
            "----------------------------------------------------------------\n"
          ],
          "name": "stdout"
        }
      ]
    },
    {
      "cell_type": "code",
      "metadata": {
        "id": "UNn_hkCr62xz"
      },
      "source": [
        "train_losses = []\r\n",
        "test_losses = []"
      ],
      "execution_count": 7,
      "outputs": []
    },
    {
      "cell_type": "code",
      "metadata": {
        "colab": {
          "base_uri": "https://localhost:8080/"
        },
        "id": "V1sVbQm6vQvS",
        "outputId": "1741c2af-d640-458b-9177-36118a4a6cd8"
      },
      "source": [
        "from album_transform import train_transform, test_transform\r\n",
        "\r\n",
        "batch_size = 128\r\n",
        "train_loader, test_loader, sample_loader = dataloaders.data_loaders(\r\n",
        "                                                batch_size,\r\n",
        "                                                train_transform,\r\n",
        "                                                test_transform\r\n",
        "                                                )"
      ],
      "execution_count": 8,
      "outputs": [
        {
          "output_type": "stream",
          "text": [
            "Files already downloaded and verified\n",
            "Files already downloaded and verified\n"
          ],
          "name": "stdout"
        }
      ]
    },
    {
      "cell_type": "code",
      "metadata": {
        "colab": {
          "base_uri": "https://localhost:8080/",
          "height": 175
        },
        "id": "Uv6TkP-Rt4ts",
        "outputId": "d500d6bd-e144-4683-95c5-17027a69f5c4"
      },
      "source": [
        "import misc\r\n",
        "classes = ('plane', 'car', 'bird', 'cat', 'deer', 'dog', 'frog', 'horse', 'ship', 'truck')\r\n",
        "\r\n",
        "misc.show_images(sample_loader, classes)"
      ],
      "execution_count": 9,
      "outputs": [
        {
          "output_type": "stream",
          "text": [
            "Clipping input data to the valid range for imshow with RGB data ([0..1] for floats or [0..255] for integers).\n"
          ],
          "name": "stderr"
        },
        {
          "output_type": "stream",
          "text": [
            " deer   car horse   dog\n"
          ],
          "name": "stdout"
        },
        {
          "output_type": "display_data",
          "data": {
            "image/png": "[encoded data removed]",
            "text/plain": [
              "<Figure size 432x288 with 1 Axes>"
            ]
          },
          "metadata": {
            "tags": [],
            "needs_background": "light"
          }
        }
      ]
    },
    {
      "cell_type": "code",
      "metadata": {
        "id": "iZWmqrrtJIsz"
      },
      "source": [
        "optimizer = reg_tech.hi_optimizer(model)"
      ],
      "execution_count": 10,
      "outputs": []
    },
    {
      "cell_type": "code",
      "metadata": {
        "id": "NmGxjLw05wLD",
        "colab": {
          "base_uri": "https://localhost:8080/"
        },
        "outputId": "2cd0e9e7-fd7e-42b4-f40e-98de1a4f8aa0"
      },
      "source": [
        "for epoch in range(1, 70):\r\n",
        "    training.train(model, device, train_loader, optimizer, epoch)\r\n",
        "    test_loss = testing.test(model, device, test_loader)\r\n",
        "    print('Epoch-{0} lr: {1}'.format(epoch, optimizer.param_groups[0]['lr']))"
      ],
      "execution_count": 11,
      "outputs": [
        {
          "output_type": "stream",
          "text": [
            "Loss=1.3582475185394287 Batch_id=390 Accuracy=37.20: 100%|██████████| 391/391 [00:42<00:00,  9.19it/s]\n",
            "  0%|          | 0/391 [00:00<?, ?it/s]"
          ],
          "name": "stderr"
        },
        {
          "output_type": "stream",
          "text": [
            "\n",
            "Test set: Average loss: 0.0115, Accuracy: 4631/10000 (46.31%)\n",
            "\n",
            "Epoch-1 lr: 0.001\n"
          ],
          "name": "stdout"
        },
        {
          "output_type": "stream",
          "text": [
            "Loss=1.2773408889770508 Batch_id=390 Accuracy=51.65: 100%|██████████| 391/391 [00:40<00:00,  9.63it/s]\n",
            "  0%|          | 0/391 [00:00<?, ?it/s]"
          ],
          "name": "stderr"
        },
        {
          "output_type": "stream",
          "text": [
            "\n",
            "Test set: Average loss: 0.0102, Accuracy: 5312/10000 (53.12%)\n",
            "\n",
            "Epoch-2 lr: 0.001\n"
          ],
          "name": "stdout"
        },
        {
          "output_type": "stream",
          "text": [
            "Loss=0.9465109705924988 Batch_id=390 Accuracy=58.78: 100%|██████████| 391/391 [00:41<00:00,  9.41it/s]\n",
            "  0%|          | 0/391 [00:00<?, ?it/s]"
          ],
          "name": "stderr"
        },
        {
          "output_type": "stream",
          "text": [
            "\n",
            "Test set: Average loss: 0.0084, Accuracy: 6207/10000 (62.07%)\n",
            "\n",
            "Epoch-3 lr: 0.001\n"
          ],
          "name": "stdout"
        },
        {
          "output_type": "stream",
          "text": [
            "Loss=0.9608465433120728 Batch_id=390 Accuracy=62.98: 100%|██████████| 391/391 [00:40<00:00,  9.54it/s]\n",
            "  0%|          | 0/391 [00:00<?, ?it/s]"
          ],
          "name": "stderr"
        },
        {
          "output_type": "stream",
          "text": [
            "\n",
            "Test set: Average loss: 0.0084, Accuracy: 6243/10000 (62.43%)\n",
            "\n",
            "Epoch-4 lr: 0.001\n"
          ],
          "name": "stdout"
        },
        {
          "output_type": "stream",
          "text": [
            "Loss=0.9262967109680176 Batch_id=390 Accuracy=65.98: 100%|██████████| 391/391 [00:41<00:00,  9.48it/s]\n",
            "  0%|          | 0/391 [00:00<?, ?it/s]"
          ],
          "name": "stderr"
        },
        {
          "output_type": "stream",
          "text": [
            "\n",
            "Test set: Average loss: 0.0070, Accuracy: 6806/10000 (68.06%)\n",
            "\n",
            "Epoch-5 lr: 0.001\n"
          ],
          "name": "stdout"
        },
        {
          "output_type": "stream",
          "text": [
            "Loss=0.9016720056533813 Batch_id=390 Accuracy=68.39: 100%|██████████| 391/391 [00:41<00:00,  9.47it/s]\n",
            "  0%|          | 0/391 [00:00<?, ?it/s]"
          ],
          "name": "stderr"
        },
        {
          "output_type": "stream",
          "text": [
            "\n",
            "Test set: Average loss: 0.0071, Accuracy: 6812/10000 (68.12%)\n",
            "\n",
            "Epoch-6 lr: 0.001\n"
          ],
          "name": "stdout"
        },
        {
          "output_type": "stream",
          "text": [
            "Loss=0.7061799764633179 Batch_id=390 Accuracy=70.65: 100%|██████████| 391/391 [00:41<00:00,  9.49it/s]\n",
            "  0%|          | 0/391 [00:00<?, ?it/s]"
          ],
          "name": "stderr"
        },
        {
          "output_type": "stream",
          "text": [
            "\n",
            "Test set: Average loss: 0.0065, Accuracy: 7064/10000 (70.64%)\n",
            "\n",
            "Epoch-7 lr: 0.001\n"
          ],
          "name": "stdout"
        },
        {
          "output_type": "stream",
          "text": [
            "Loss=0.8552687764167786 Batch_id=390 Accuracy=72.36: 100%|██████████| 391/391 [00:41<00:00,  9.50it/s]\n",
            "  0%|          | 0/391 [00:00<?, ?it/s]"
          ],
          "name": "stderr"
        },
        {
          "output_type": "stream",
          "text": [
            "\n",
            "Test set: Average loss: 0.0072, Accuracy: 6804/10000 (68.04%)\n",
            "\n",
            "Epoch-8 lr: 0.001\n"
          ],
          "name": "stdout"
        },
        {
          "output_type": "stream",
          "text": [
            "Loss=0.8980402946472168 Batch_id=390 Accuracy=74.18: 100%|██████████| 391/391 [00:41<00:00,  9.50it/s]\n",
            "  0%|          | 0/391 [00:00<?, ?it/s]"
          ],
          "name": "stderr"
        },
        {
          "output_type": "stream",
          "text": [
            "\n",
            "Test set: Average loss: 0.0059, Accuracy: 7385/10000 (73.85%)\n",
            "\n",
            "Epoch-9 lr: 0.001\n"
          ],
          "name": "stdout"
        },
        {
          "output_type": "stream",
          "text": [
            "Loss=0.8971153497695923 Batch_id=390 Accuracy=75.61: 100%|██████████| 391/391 [00:41<00:00,  9.51it/s]\n",
            "  0%|          | 0/391 [00:00<?, ?it/s]"
          ],
          "name": "stderr"
        },
        {
          "output_type": "stream",
          "text": [
            "\n",
            "Test set: Average loss: 0.0054, Accuracy: 7601/10000 (76.01%)\n",
            "\n",
            "Epoch-10 lr: 0.001\n"
          ],
          "name": "stdout"
        },
        {
          "output_type": "stream",
          "text": [
            "Loss=1.0334579944610596 Batch_id=390 Accuracy=76.87: 100%|██████████| 391/391 [00:41<00:00,  9.51it/s]\n",
            "  0%|          | 0/391 [00:00<?, ?it/s]"
          ],
          "name": "stderr"
        },
        {
          "output_type": "stream",
          "text": [
            "\n",
            "Test set: Average loss: 0.0057, Accuracy: 7459/10000 (74.59%)\n",
            "\n",
            "Epoch-11 lr: 0.001\n"
          ],
          "name": "stdout"
        },
        {
          "output_type": "stream",
          "text": [
            "Loss=0.5034139752388 Batch_id=390 Accuracy=77.72: 100%|██████████| 391/391 [00:41<00:00,  9.51it/s]\n",
            "  0%|          | 0/391 [00:00<?, ?it/s]"
          ],
          "name": "stderr"
        },
        {
          "output_type": "stream",
          "text": [
            "\n",
            "Test set: Average loss: 0.0050, Accuracy: 7823/10000 (78.23%)\n",
            "\n",
            "Epoch-12 lr: 0.001\n"
          ],
          "name": "stdout"
        },
        {
          "output_type": "stream",
          "text": [
            "Loss=0.5043115615844727 Batch_id=390 Accuracy=78.82: 100%|██████████| 391/391 [00:41<00:00,  9.52it/s]\n",
            "  0%|          | 0/391 [00:00<?, ?it/s]"
          ],
          "name": "stderr"
        },
        {
          "output_type": "stream",
          "text": [
            "\n",
            "Test set: Average loss: 0.0048, Accuracy: 7899/10000 (78.99%)\n",
            "\n",
            "Epoch-13 lr: 0.001\n"
          ],
          "name": "stdout"
        },
        {
          "output_type": "stream",
          "text": [
            "Loss=0.5266350507736206 Batch_id=390 Accuracy=79.65: 100%|██████████| 391/391 [00:41<00:00,  9.46it/s]\n",
            "  0%|          | 0/391 [00:00<?, ?it/s]"
          ],
          "name": "stderr"
        },
        {
          "output_type": "stream",
          "text": [
            "\n",
            "Test set: Average loss: 0.0055, Accuracy: 7604/10000 (76.04%)\n",
            "\n",
            "Epoch-14 lr: 0.001\n"
          ],
          "name": "stdout"
        },
        {
          "output_type": "stream",
          "text": [
            "Loss=0.4300076961517334 Batch_id=390 Accuracy=80.02: 100%|██████████| 391/391 [00:41<00:00,  9.46it/s]\n",
            "  0%|          | 0/391 [00:00<?, ?it/s]"
          ],
          "name": "stderr"
        },
        {
          "output_type": "stream",
          "text": [
            "\n",
            "Test set: Average loss: 0.0058, Accuracy: 7451/10000 (74.51%)\n",
            "\n",
            "Epoch-15 lr: 0.001\n"
          ],
          "name": "stdout"
        },
        {
          "output_type": "stream",
          "text": [
            "Loss=0.46506771445274353 Batch_id=390 Accuracy=80.67: 100%|██████████| 391/391 [00:41<00:00,  9.47it/s]\n",
            "  0%|          | 0/391 [00:00<?, ?it/s]"
          ],
          "name": "stderr"
        },
        {
          "output_type": "stream",
          "text": [
            "\n",
            "Test set: Average loss: 0.0044, Accuracy: 8071/10000 (80.71%)\n",
            "\n",
            "Epoch-16 lr: 0.001\n"
          ],
          "name": "stdout"
        },
        {
          "output_type": "stream",
          "text": [
            "Loss=0.52231365442276 Batch_id=390 Accuracy=81.49: 100%|██████████| 391/391 [00:41<00:00,  9.45it/s]\n",
            "  0%|          | 0/391 [00:00<?, ?it/s]"
          ],
          "name": "stderr"
        },
        {
          "output_type": "stream",
          "text": [
            "\n",
            "Test set: Average loss: 0.0051, Accuracy: 7802/10000 (78.02%)\n",
            "\n",
            "Epoch-17 lr: 0.001\n"
          ],
          "name": "stdout"
        },
        {
          "output_type": "stream",
          "text": [
            "Loss=0.4557102620601654 Batch_id=390 Accuracy=82.27: 100%|██████████| 391/391 [00:41<00:00,  9.46it/s]\n",
            "  0%|          | 0/391 [00:00<?, ?it/s]"
          ],
          "name": "stderr"
        },
        {
          "output_type": "stream",
          "text": [
            "\n",
            "Test set: Average loss: 0.0049, Accuracy: 7834/10000 (78.34%)\n",
            "\n",
            "Epoch-18 lr: 0.001\n"
          ],
          "name": "stdout"
        },
        {
          "output_type": "stream",
          "text": [
            "Loss=0.6729468703269958 Batch_id=390 Accuracy=82.64: 100%|██████████| 391/391 [00:41<00:00,  9.45it/s]\n",
            "  0%|          | 0/391 [00:00<?, ?it/s]"
          ],
          "name": "stderr"
        },
        {
          "output_type": "stream",
          "text": [
            "\n",
            "Test set: Average loss: 0.0043, Accuracy: 8140/10000 (81.40%)\n",
            "\n",
            "Epoch-19 lr: 0.001\n"
          ],
          "name": "stdout"
        },
        {
          "output_type": "stream",
          "text": [
            "Loss=0.4139217734336853 Batch_id=390 Accuracy=83.20: 100%|██████████| 391/391 [00:41<00:00,  9.46it/s]\n",
            "  0%|          | 0/391 [00:00<?, ?it/s]"
          ],
          "name": "stderr"
        },
        {
          "output_type": "stream",
          "text": [
            "\n",
            "Test set: Average loss: 0.0044, Accuracy: 8100/10000 (81.00%)\n",
            "\n",
            "Epoch-20 lr: 0.001\n"
          ],
          "name": "stdout"
        },
        {
          "output_type": "stream",
          "text": [
            "Loss=0.2854117751121521 Batch_id=390 Accuracy=83.79: 100%|██████████| 391/391 [00:41<00:00,  9.50it/s]\n",
            "  0%|          | 0/391 [00:00<?, ?it/s]"
          ],
          "name": "stderr"
        },
        {
          "output_type": "stream",
          "text": [
            "\n",
            "Test set: Average loss: 0.0038, Accuracy: 8312/10000 (83.12%)\n",
            "\n",
            "Epoch-21 lr: 0.001\n"
          ],
          "name": "stdout"
        },
        {
          "output_type": "stream",
          "text": [
            "Loss=0.6392136812210083 Batch_id=390 Accuracy=84.17: 100%|██████████| 391/391 [00:41<00:00,  9.50it/s]\n",
            "  0%|          | 0/391 [00:00<?, ?it/s]"
          ],
          "name": "stderr"
        },
        {
          "output_type": "stream",
          "text": [
            "\n",
            "Test set: Average loss: 0.0040, Accuracy: 8257/10000 (82.57%)\n",
            "\n",
            "Epoch-22 lr: 0.001\n"
          ],
          "name": "stdout"
        },
        {
          "output_type": "stream",
          "text": [
            "Loss=0.5461465716362 Batch_id=390 Accuracy=84.47: 100%|██████████| 391/391 [00:41<00:00,  9.51it/s]\n",
            "  0%|          | 0/391 [00:00<?, ?it/s]"
          ],
          "name": "stderr"
        },
        {
          "output_type": "stream",
          "text": [
            "\n",
            "Test set: Average loss: 0.0041, Accuracy: 8172/10000 (81.72%)\n",
            "\n",
            "Epoch-23 lr: 0.001\n"
          ],
          "name": "stdout"
        },
        {
          "output_type": "stream",
          "text": [
            "Loss=0.4932591915130615 Batch_id=390 Accuracy=84.90: 100%|██████████| 391/391 [00:41<00:00,  9.45it/s]\n",
            "  0%|          | 0/391 [00:00<?, ?it/s]"
          ],
          "name": "stderr"
        },
        {
          "output_type": "stream",
          "text": [
            "\n",
            "Test set: Average loss: 0.0037, Accuracy: 8389/10000 (83.89%)\n",
            "\n",
            "Epoch-24 lr: 0.001\n"
          ],
          "name": "stdout"
        },
        {
          "output_type": "stream",
          "text": [
            "Loss=0.3398107886314392 Batch_id=390 Accuracy=85.51: 100%|██████████| 391/391 [00:41<00:00,  9.47it/s]\n",
            "  0%|          | 0/391 [00:00<?, ?it/s]"
          ],
          "name": "stderr"
        },
        {
          "output_type": "stream",
          "text": [
            "\n",
            "Test set: Average loss: 0.0043, Accuracy: 8149/10000 (81.49%)\n",
            "\n",
            "Epoch-25 lr: 0.001\n"
          ],
          "name": "stdout"
        },
        {
          "output_type": "stream",
          "text": [
            "Loss=0.4103803038597107 Batch_id=390 Accuracy=85.80: 100%|██████████| 391/391 [00:41<00:00,  9.47it/s]\n",
            "  0%|          | 0/391 [00:00<?, ?it/s]"
          ],
          "name": "stderr"
        },
        {
          "output_type": "stream",
          "text": [
            "\n",
            "Test set: Average loss: 0.0042, Accuracy: 8238/10000 (82.38%)\n",
            "\n",
            "Epoch-26 lr: 0.001\n"
          ],
          "name": "stdout"
        },
        {
          "output_type": "stream",
          "text": [
            "Loss=0.3866589665412903 Batch_id=390 Accuracy=86.03: 100%|██████████| 391/391 [00:41<00:00,  9.46it/s]\n",
            "  0%|          | 0/391 [00:00<?, ?it/s]"
          ],
          "name": "stderr"
        },
        {
          "output_type": "stream",
          "text": [
            "\n",
            "Test set: Average loss: 0.0035, Accuracy: 8501/10000 (85.01%)\n",
            "\n",
            "Epoch-27 lr: 0.001\n"
          ],
          "name": "stdout"
        },
        {
          "output_type": "stream",
          "text": [
            "Loss=0.42313307523727417 Batch_id=390 Accuracy=86.35: 100%|██████████| 391/391 [00:41<00:00,  9.46it/s]\n",
            "  0%|          | 0/391 [00:00<?, ?it/s]"
          ],
          "name": "stderr"
        },
        {
          "output_type": "stream",
          "text": [
            "\n",
            "Test set: Average loss: 0.0039, Accuracy: 8323/10000 (83.23%)\n",
            "\n",
            "Epoch-28 lr: 0.001\n"
          ],
          "name": "stdout"
        },
        {
          "output_type": "stream",
          "text": [
            "Loss=0.26999497413635254 Batch_id=390 Accuracy=86.76: 100%|██████████| 391/391 [00:41<00:00,  9.48it/s]\n",
            "  0%|          | 0/391 [00:00<?, ?it/s]"
          ],
          "name": "stderr"
        },
        {
          "output_type": "stream",
          "text": [
            "\n",
            "Test set: Average loss: 0.0044, Accuracy: 8190/10000 (81.90%)\n",
            "\n",
            "Epoch-29 lr: 0.001\n"
          ],
          "name": "stdout"
        },
        {
          "output_type": "stream",
          "text": [
            "Loss=0.4038279950618744 Batch_id=390 Accuracy=86.96: 100%|██████████| 391/391 [00:41<00:00,  9.51it/s]\n",
            "  0%|          | 0/391 [00:00<?, ?it/s]"
          ],
          "name": "stderr"
        },
        {
          "output_type": "stream",
          "text": [
            "\n",
            "Test set: Average loss: 0.0041, Accuracy: 8252/10000 (82.52%)\n",
            "\n",
            "Epoch-30 lr: 0.001\n"
          ],
          "name": "stdout"
        },
        {
          "output_type": "stream",
          "text": [
            "Loss=0.3083788752555847 Batch_id=390 Accuracy=87.26: 100%|██████████| 391/391 [00:41<00:00,  9.50it/s]\n",
            "  0%|          | 0/391 [00:00<?, ?it/s]"
          ],
          "name": "stderr"
        },
        {
          "output_type": "stream",
          "text": [
            "\n",
            "Test set: Average loss: 0.0033, Accuracy: 8577/10000 (85.77%)\n",
            "\n",
            "Epoch-31 lr: 0.001\n"
          ],
          "name": "stdout"
        },
        {
          "output_type": "stream",
          "text": [
            "Loss=0.34160667657852173 Batch_id=390 Accuracy=87.53: 100%|██████████| 391/391 [00:41<00:00,  9.50it/s]\n",
            "  0%|          | 0/391 [00:00<?, ?it/s]"
          ],
          "name": "stderr"
        },
        {
          "output_type": "stream",
          "text": [
            "\n",
            "Test set: Average loss: 0.0036, Accuracy: 8469/10000 (84.69%)\n",
            "\n",
            "Epoch-32 lr: 0.001\n"
          ],
          "name": "stdout"
        },
        {
          "output_type": "stream",
          "text": [
            "Loss=0.310724675655365 Batch_id=390 Accuracy=87.91: 100%|██████████| 391/391 [00:41<00:00,  9.48it/s]\n",
            "  0%|          | 0/391 [00:00<?, ?it/s]"
          ],
          "name": "stderr"
        },
        {
          "output_type": "stream",
          "text": [
            "\n",
            "Test set: Average loss: 0.0038, Accuracy: 8406/10000 (84.06%)\n",
            "\n",
            "Epoch-33 lr: 0.001\n"
          ],
          "name": "stdout"
        },
        {
          "output_type": "stream",
          "text": [
            "Loss=0.31403395533561707 Batch_id=390 Accuracy=88.21: 100%|██████████| 391/391 [00:41<00:00,  9.48it/s]\n",
            "  0%|          | 0/391 [00:00<?, ?it/s]"
          ],
          "name": "stderr"
        },
        {
          "output_type": "stream",
          "text": [
            "\n",
            "Test set: Average loss: 0.0035, Accuracy: 8485/10000 (84.85%)\n",
            "\n",
            "Epoch-34 lr: 0.001\n"
          ],
          "name": "stdout"
        },
        {
          "output_type": "stream",
          "text": [
            "Loss=0.3835095465183258 Batch_id=390 Accuracy=88.57: 100%|██████████| 391/391 [00:41<00:00,  9.47it/s]\n",
            "  0%|          | 0/391 [00:00<?, ?it/s]"
          ],
          "name": "stderr"
        },
        {
          "output_type": "stream",
          "text": [
            "\n",
            "Test set: Average loss: 0.0037, Accuracy: 8495/10000 (84.95%)\n",
            "\n",
            "Epoch-35 lr: 0.001\n"
          ],
          "name": "stdout"
        },
        {
          "output_type": "stream",
          "text": [
            "Loss=0.3994101583957672 Batch_id=390 Accuracy=88.51: 100%|██████████| 391/391 [00:41<00:00,  9.46it/s]\n",
            "  0%|          | 0/391 [00:00<?, ?it/s]"
          ],
          "name": "stderr"
        },
        {
          "output_type": "stream",
          "text": [
            "\n",
            "Test set: Average loss: 0.0038, Accuracy: 8405/10000 (84.05%)\n",
            "\n",
            "Epoch-36 lr: 0.001\n"
          ],
          "name": "stdout"
        },
        {
          "output_type": "stream",
          "text": [
            "Loss=0.2608534097671509 Batch_id=390 Accuracy=88.70: 100%|██████████| 391/391 [00:41<00:00,  9.47it/s]\n",
            "  0%|          | 0/391 [00:00<?, ?it/s]"
          ],
          "name": "stderr"
        },
        {
          "output_type": "stream",
          "text": [
            "\n",
            "Test set: Average loss: 0.0037, Accuracy: 8502/10000 (85.02%)\n",
            "\n",
            "Epoch-37 lr: 0.001\n"
          ],
          "name": "stdout"
        },
        {
          "output_type": "stream",
          "text": [
            "Loss=0.19584804773330688 Batch_id=390 Accuracy=89.02: 100%|██████████| 391/391 [00:41<00:00,  9.48it/s]\n",
            "  0%|          | 0/391 [00:00<?, ?it/s]"
          ],
          "name": "stderr"
        },
        {
          "output_type": "stream",
          "text": [
            "\n",
            "Test set: Average loss: 0.0034, Accuracy: 8581/10000 (85.81%)\n",
            "\n",
            "Epoch-38 lr: 0.001\n"
          ],
          "name": "stdout"
        },
        {
          "output_type": "stream",
          "text": [
            "Loss=0.3259148597717285 Batch_id=390 Accuracy=89.28: 100%|██████████| 391/391 [00:41<00:00,  9.48it/s]\n",
            "  0%|          | 0/391 [00:00<?, ?it/s]"
          ],
          "name": "stderr"
        },
        {
          "output_type": "stream",
          "text": [
            "\n",
            "Test set: Average loss: 0.0031, Accuracy: 8656/10000 (86.56%)\n",
            "\n",
            "Epoch-39 lr: 0.001\n"
          ],
          "name": "stdout"
        },
        {
          "output_type": "stream",
          "text": [
            "Loss=0.28904861211776733 Batch_id=390 Accuracy=89.52: 100%|██████████| 391/391 [00:41<00:00,  9.47it/s]\n",
            "  0%|          | 0/391 [00:00<?, ?it/s]"
          ],
          "name": "stderr"
        },
        {
          "output_type": "stream",
          "text": [
            "\n",
            "Test set: Average loss: 0.0036, Accuracy: 8541/10000 (85.41%)\n",
            "\n",
            "Epoch-40 lr: 0.001\n"
          ],
          "name": "stdout"
        },
        {
          "output_type": "stream",
          "text": [
            "Loss=0.25203055143356323 Batch_id=390 Accuracy=89.28: 100%|██████████| 391/391 [00:41<00:00,  9.48it/s]\n",
            "  0%|          | 0/391 [00:00<?, ?it/s]"
          ],
          "name": "stderr"
        },
        {
          "output_type": "stream",
          "text": [
            "\n",
            "Test set: Average loss: 0.0035, Accuracy: 8557/10000 (85.57%)\n",
            "\n",
            "Epoch-41 lr: 0.001\n"
          ],
          "name": "stdout"
        },
        {
          "output_type": "stream",
          "text": [
            "Loss=0.19166871905326843 Batch_id=390 Accuracy=89.83: 100%|██████████| 391/391 [00:41<00:00,  9.49it/s]\n",
            "  0%|          | 0/391 [00:00<?, ?it/s]"
          ],
          "name": "stderr"
        },
        {
          "output_type": "stream",
          "text": [
            "\n",
            "Test set: Average loss: 0.0035, Accuracy: 8567/10000 (85.67%)\n",
            "\n",
            "Epoch-42 lr: 0.001\n"
          ],
          "name": "stdout"
        },
        {
          "output_type": "stream",
          "text": [
            "Loss=0.15739378333091736 Batch_id=390 Accuracy=90.14: 100%|██████████| 391/391 [00:41<00:00,  9.48it/s]\n",
            "  0%|          | 0/391 [00:00<?, ?it/s]"
          ],
          "name": "stderr"
        },
        {
          "output_type": "stream",
          "text": [
            "\n",
            "Test set: Average loss: 0.0033, Accuracy: 8655/10000 (86.55%)\n",
            "\n",
            "Epoch-43 lr: 0.001\n"
          ],
          "name": "stdout"
        },
        {
          "output_type": "stream",
          "text": [
            "Loss=0.37935110926628113 Batch_id=390 Accuracy=90.26: 100%|██████████| 391/391 [00:41<00:00,  9.47it/s]\n",
            "  0%|          | 0/391 [00:00<?, ?it/s]"
          ],
          "name": "stderr"
        },
        {
          "output_type": "stream",
          "text": [
            "\n",
            "Test set: Average loss: 0.0041, Accuracy: 8328/10000 (83.28%)\n",
            "\n",
            "Epoch-44 lr: 0.001\n"
          ],
          "name": "stdout"
        },
        {
          "output_type": "stream",
          "text": [
            "Loss=0.2369196116924286 Batch_id=390 Accuracy=90.24: 100%|██████████| 391/391 [00:41<00:00,  9.47it/s]\n",
            "  0%|          | 0/391 [00:00<?, ?it/s]"
          ],
          "name": "stderr"
        },
        {
          "output_type": "stream",
          "text": [
            "\n",
            "Test set: Average loss: 0.0033, Accuracy: 8684/10000 (86.84%)\n",
            "\n",
            "Epoch-45 lr: 0.001\n"
          ],
          "name": "stdout"
        },
        {
          "output_type": "stream",
          "text": [
            "Loss=0.20890924334526062 Batch_id=390 Accuracy=90.53: 100%|██████████| 391/391 [00:41<00:00,  9.45it/s]\n",
            "  0%|          | 0/391 [00:00<?, ?it/s]"
          ],
          "name": "stderr"
        },
        {
          "output_type": "stream",
          "text": [
            "\n",
            "Test set: Average loss: 0.0036, Accuracy: 8597/10000 (85.97%)\n",
            "\n",
            "Epoch-46 lr: 0.001\n"
          ],
          "name": "stdout"
        },
        {
          "output_type": "stream",
          "text": [
            "Loss=0.3829641342163086 Batch_id=390 Accuracy=90.77: 100%|██████████| 391/391 [00:41<00:00,  9.44it/s]\n",
            "  0%|          | 0/391 [00:00<?, ?it/s]"
          ],
          "name": "stderr"
        },
        {
          "output_type": "stream",
          "text": [
            "\n",
            "Test set: Average loss: 0.0033, Accuracy: 8624/10000 (86.24%)\n",
            "\n",
            "Epoch-47 lr: 0.001\n"
          ],
          "name": "stdout"
        },
        {
          "output_type": "stream",
          "text": [
            "Loss=0.3542225956916809 Batch_id=390 Accuracy=90.80: 100%|██████████| 391/391 [00:41<00:00,  9.46it/s]\n",
            "  0%|          | 0/391 [00:00<?, ?it/s]"
          ],
          "name": "stderr"
        },
        {
          "output_type": "stream",
          "text": [
            "\n",
            "Test set: Average loss: 0.0034, Accuracy: 8672/10000 (86.72%)\n",
            "\n",
            "Epoch-48 lr: 0.001\n"
          ],
          "name": "stdout"
        },
        {
          "output_type": "stream",
          "text": [
            "Loss=0.1854066699743271 Batch_id=390 Accuracy=91.14: 100%|██████████| 391/391 [00:41<00:00,  9.50it/s]\n",
            "  0%|          | 0/391 [00:00<?, ?it/s]"
          ],
          "name": "stderr"
        },
        {
          "output_type": "stream",
          "text": [
            "\n",
            "Test set: Average loss: 0.0034, Accuracy: 8607/10000 (86.07%)\n",
            "\n",
            "Epoch-49 lr: 0.001\n"
          ],
          "name": "stdout"
        },
        {
          "output_type": "stream",
          "text": [
            "Loss=0.30045583844184875 Batch_id=390 Accuracy=91.20: 100%|██████████| 391/391 [00:41<00:00,  9.48it/s]\n",
            "  0%|          | 0/391 [00:00<?, ?it/s]"
          ],
          "name": "stderr"
        },
        {
          "output_type": "stream",
          "text": [
            "\n",
            "Test set: Average loss: 0.0030, Accuracy: 8789/10000 (87.89%)\n",
            "\n",
            "Epoch-50 lr: 0.001\n"
          ],
          "name": "stdout"
        },
        {
          "output_type": "stream",
          "text": [
            "Loss=0.1969609260559082 Batch_id=390 Accuracy=91.42: 100%|██████████| 391/391 [00:41<00:00,  9.48it/s]\n",
            "  0%|          | 0/391 [00:00<?, ?it/s]"
          ],
          "name": "stderr"
        },
        {
          "output_type": "stream",
          "text": [
            "\n",
            "Test set: Average loss: 0.0039, Accuracy: 8483/10000 (84.83%)\n",
            "\n",
            "Epoch-51 lr: 0.001\n"
          ],
          "name": "stdout"
        },
        {
          "output_type": "stream",
          "text": [
            "Loss=0.3156173527240753 Batch_id=390 Accuracy=91.47: 100%|██████████| 391/391 [00:41<00:00,  9.46it/s]\n",
            "  0%|          | 0/391 [00:00<?, ?it/s]"
          ],
          "name": "stderr"
        },
        {
          "output_type": "stream",
          "text": [
            "\n",
            "Test set: Average loss: 0.0032, Accuracy: 8723/10000 (87.23%)\n",
            "\n",
            "Epoch-52 lr: 0.001\n"
          ],
          "name": "stdout"
        },
        {
          "output_type": "stream",
          "text": [
            "Loss=0.12683987617492676 Batch_id=390 Accuracy=91.63: 100%|██████████| 391/391 [00:41<00:00,  9.45it/s]\n",
            "  0%|          | 0/391 [00:00<?, ?it/s]"
          ],
          "name": "stderr"
        },
        {
          "output_type": "stream",
          "text": [
            "\n",
            "Test set: Average loss: 0.0034, Accuracy: 8615/10000 (86.15%)\n",
            "\n",
            "Epoch-53 lr: 0.001\n"
          ],
          "name": "stdout"
        },
        {
          "output_type": "stream",
          "text": [
            "Loss=0.19810274243354797 Batch_id=390 Accuracy=91.86: 100%|██████████| 391/391 [00:41<00:00,  9.43it/s]\n",
            "  0%|          | 0/391 [00:00<?, ?it/s]"
          ],
          "name": "stderr"
        },
        {
          "output_type": "stream",
          "text": [
            "\n",
            "Test set: Average loss: 0.0034, Accuracy: 8652/10000 (86.52%)\n",
            "\n",
            "Epoch-54 lr: 0.001\n"
          ],
          "name": "stdout"
        },
        {
          "output_type": "stream",
          "text": [
            "Loss=0.13555680215358734 Batch_id=390 Accuracy=91.87: 100%|██████████| 391/391 [00:41<00:00,  9.45it/s]\n",
            "  0%|          | 0/391 [00:00<?, ?it/s]"
          ],
          "name": "stderr"
        },
        {
          "output_type": "stream",
          "text": [
            "\n",
            "Test set: Average loss: 0.0035, Accuracy: 8607/10000 (86.07%)\n",
            "\n",
            "Epoch-55 lr: 0.001\n"
          ],
          "name": "stdout"
        },
        {
          "output_type": "stream",
          "text": [
            "Loss=0.1368916779756546 Batch_id=390 Accuracy=92.33: 100%|██████████| 391/391 [00:41<00:00,  9.44it/s]\n",
            "  0%|          | 0/391 [00:00<?, ?it/s]"
          ],
          "name": "stderr"
        },
        {
          "output_type": "stream",
          "text": [
            "\n",
            "Test set: Average loss: 0.0029, Accuracy: 8842/10000 (88.42%)\n",
            "\n",
            "Epoch-56 lr: 0.001\n"
          ],
          "name": "stdout"
        },
        {
          "output_type": "stream",
          "text": [
            "Loss=0.23991835117340088 Batch_id=390 Accuracy=92.06: 100%|██████████| 391/391 [00:41<00:00,  9.46it/s]\n",
            "  0%|          | 0/391 [00:00<?, ?it/s]"
          ],
          "name": "stderr"
        },
        {
          "output_type": "stream",
          "text": [
            "\n",
            "Test set: Average loss: 0.0031, Accuracy: 8767/10000 (87.67%)\n",
            "\n",
            "Epoch-57 lr: 0.001\n"
          ],
          "name": "stdout"
        },
        {
          "output_type": "stream",
          "text": [
            "Loss=0.16211839020252228 Batch_id=390 Accuracy=92.30: 100%|██████████| 391/391 [00:41<00:00,  9.42it/s]\n",
            "  0%|          | 0/391 [00:00<?, ?it/s]"
          ],
          "name": "stderr"
        },
        {
          "output_type": "stream",
          "text": [
            "\n",
            "Test set: Average loss: 0.0031, Accuracy: 8786/10000 (87.86%)\n",
            "\n",
            "Epoch-58 lr: 0.001\n"
          ],
          "name": "stdout"
        },
        {
          "output_type": "stream",
          "text": [
            "Loss=0.17157623171806335 Batch_id=390 Accuracy=92.49: 100%|██████████| 391/391 [00:41<00:00,  9.50it/s]\n",
            "  0%|          | 0/391 [00:00<?, ?it/s]"
          ],
          "name": "stderr"
        },
        {
          "output_type": "stream",
          "text": [
            "\n",
            "Test set: Average loss: 0.0033, Accuracy: 8680/10000 (86.80%)\n",
            "\n",
            "Epoch-59 lr: 0.001\n"
          ],
          "name": "stdout"
        },
        {
          "output_type": "stream",
          "text": [
            "Loss=0.19713690876960754 Batch_id=390 Accuracy=92.28: 100%|██████████| 391/391 [00:41<00:00,  9.50it/s]\n",
            "  0%|          | 0/391 [00:00<?, ?it/s]"
          ],
          "name": "stderr"
        },
        {
          "output_type": "stream",
          "text": [
            "\n",
            "Test set: Average loss: 0.0034, Accuracy: 8694/10000 (86.94%)\n",
            "\n",
            "Epoch-60 lr: 0.001\n"
          ],
          "name": "stdout"
        },
        {
          "output_type": "stream",
          "text": [
            "Loss=0.12209391593933105 Batch_id=390 Accuracy=92.73: 100%|██████████| 391/391 [00:41<00:00,  9.47it/s]\n",
            "  0%|          | 0/391 [00:00<?, ?it/s]"
          ],
          "name": "stderr"
        },
        {
          "output_type": "stream",
          "text": [
            "\n",
            "Test set: Average loss: 0.0029, Accuracy: 8858/10000 (88.58%)\n",
            "\n",
            "Epoch-61 lr: 0.001\n"
          ],
          "name": "stdout"
        },
        {
          "output_type": "stream",
          "text": [
            "Loss=0.22956332564353943 Batch_id=390 Accuracy=92.79: 100%|██████████| 391/391 [00:41<00:00,  9.46it/s]\n",
            "  0%|          | 0/391 [00:00<?, ?it/s]"
          ],
          "name": "stderr"
        },
        {
          "output_type": "stream",
          "text": [
            "\n",
            "Test set: Average loss: 0.0033, Accuracy: 8715/10000 (87.15%)\n",
            "\n",
            "Epoch-62 lr: 0.001\n"
          ],
          "name": "stdout"
        },
        {
          "output_type": "stream",
          "text": [
            "Loss=0.1345319151878357 Batch_id=390 Accuracy=92.92: 100%|██████████| 391/391 [00:41<00:00,  9.45it/s]\n",
            "  0%|          | 0/391 [00:00<?, ?it/s]"
          ],
          "name": "stderr"
        },
        {
          "output_type": "stream",
          "text": [
            "\n",
            "Test set: Average loss: 0.0032, Accuracy: 8722/10000 (87.22%)\n",
            "\n",
            "Epoch-63 lr: 0.001\n"
          ],
          "name": "stdout"
        },
        {
          "output_type": "stream",
          "text": [
            "Loss=0.11433635652065277 Batch_id=390 Accuracy=93.01: 100%|██████████| 391/391 [00:41<00:00,  9.47it/s]\n",
            "  0%|          | 0/391 [00:00<?, ?it/s]"
          ],
          "name": "stderr"
        },
        {
          "output_type": "stream",
          "text": [
            "\n",
            "Test set: Average loss: 0.0036, Accuracy: 8617/10000 (86.17%)\n",
            "\n",
            "Epoch-64 lr: 0.001\n"
          ],
          "name": "stdout"
        },
        {
          "output_type": "stream",
          "text": [
            "Loss=0.15308590233325958 Batch_id=390 Accuracy=93.10: 100%|██████████| 391/391 [00:41<00:00,  9.47it/s]\n",
            "  0%|          | 0/391 [00:00<?, ?it/s]"
          ],
          "name": "stderr"
        },
        {
          "output_type": "stream",
          "text": [
            "\n",
            "Test set: Average loss: 0.0036, Accuracy: 8652/10000 (86.52%)\n",
            "\n",
            "Epoch-65 lr: 0.001\n"
          ],
          "name": "stdout"
        },
        {
          "output_type": "stream",
          "text": [
            "Loss=0.21871086955070496 Batch_id=390 Accuracy=93.22: 100%|██████████| 391/391 [00:41<00:00,  9.48it/s]\n",
            "  0%|          | 0/391 [00:00<?, ?it/s]"
          ],
          "name": "stderr"
        },
        {
          "output_type": "stream",
          "text": [
            "\n",
            "Test set: Average loss: 0.0036, Accuracy: 8637/10000 (86.37%)\n",
            "\n",
            "Epoch-66 lr: 0.001\n"
          ],
          "name": "stdout"
        },
        {
          "output_type": "stream",
          "text": [
            "Loss=0.17487408220767975 Batch_id=390 Accuracy=93.33: 100%|██████████| 391/391 [00:41<00:00,  9.42it/s]\n",
            "  0%|          | 0/391 [00:00<?, ?it/s]"
          ],
          "name": "stderr"
        },
        {
          "output_type": "stream",
          "text": [
            "\n",
            "Test set: Average loss: 0.0031, Accuracy: 8820/10000 (88.20%)\n",
            "\n",
            "Epoch-67 lr: 0.001\n"
          ],
          "name": "stdout"
        },
        {
          "output_type": "stream",
          "text": [
            "Loss=0.23219680786132812 Batch_id=390 Accuracy=93.36: 100%|██████████| 391/391 [00:41<00:00,  9.44it/s]\n",
            "  0%|          | 0/391 [00:00<?, ?it/s]"
          ],
          "name": "stderr"
        },
        {
          "output_type": "stream",
          "text": [
            "\n",
            "Test set: Average loss: 0.0033, Accuracy: 8770/10000 (87.70%)\n",
            "\n",
            "Epoch-68 lr: 0.001\n"
          ],
          "name": "stdout"
        },
        {
          "output_type": "stream",
          "text": [
            "Loss=0.33348676562309265 Batch_id=390 Accuracy=93.39: 100%|██████████| 391/391 [00:41<00:00,  9.44it/s]\n"
          ],
          "name": "stderr"
        },
        {
          "output_type": "stream",
          "text": [
            "\n",
            "Test set: Average loss: 0.0029, Accuracy: 8914/10000 (89.14%)\n",
            "\n",
            "Epoch-69 lr: 0.001\n"
          ],
          "name": "stdout"
        }
      ]
    },
    {
      "cell_type": "code",
      "metadata": {
        "id": "w27HCMzAfqx5"
      },
      "source": [
        "# !wget https://www.daws.org/wp-content/uploads/2014/07/Shepherd-Dog-Tabby-Cat-square-300x300.png"
      ],
      "execution_count": 12,
      "outputs": []
    },
    {
      "cell_type": "code",
      "metadata": {
        "colab": {
          "base_uri": "https://localhost:8080/",
          "height": 146
        },
        "id": "zGYbC5lzXL_1",
        "outputId": "20e94e30-0e16-4472-a1bf-8cbd0e4349fb"
      },
      "source": [
        "from grad_cam import run_gradcam\r\n",
        "import matplotlib.pyplot as plt\r\n",
        "\r\n",
        "class_names = ['plane', 'car', 'bird', 'cat', 'deer', 'dog', 'frog', 'horse', 'ship', 'truck']\r\n",
        "\r\n",
        "for x, name in enumerate(['cat', 'dog']):\r\n",
        "    image, label = run_gradcam(\r\n",
        "        model, \r\n",
        "        'Shepherd-Dog-Tabby-Cat-square-300x300.png', \r\n",
        "        class_names.index(name)\r\n",
        "        )\r\n",
        "    \r\n",
        "    plt.subplot(2,2,x+1)\r\n",
        "    plt.title(name)\r\n",
        "    plt.axis('off')\r\n",
        "    plt.imshow(image)"
      ],
      "execution_count": 13,
      "outputs": [
        {
          "output_type": "display_data",
          "data": {
            "image/png": "[encoded data removed]",
            "text/plain": [
              "<Figure size 432x288 with 2 Axes>"
            ]
          },
          "metadata": {
            "tags": [],
            "needs_background": "light"
          }
        }
      ]
    }
  ]
}