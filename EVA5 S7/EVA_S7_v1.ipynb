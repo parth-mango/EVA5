{
  "nbformat": 4,
  "nbformat_minor": 0,
  "metadata": {
    "colab": {
      "name": "EVA S7_v1.ipynb",
      "provenance": [],
      "collapsed_sections": [],
      "include_colab_link": true
    },
    "kernelspec": {
      "display_name": "Python 3",
      "name": "python3"
    },
    "accelerator": "GPU"
  },
  "cells": [
    {
      "cell_type": "markdown",
      "metadata": {
        "id": "view-in-github",
        "colab_type": "text"
      },
      "source": [
        "<a href=\"https://colab.research.google.com/github/parth-mango/EVA5-Assignments/blob/main/EVA5%20S7/EVA_S7_v1.ipynb\" target=\"_parent\"><img src=\"https://colab.research.google.com/assets/colab-badge.svg\" alt=\"Open In Colab\"/></a>"
      ]
    },
    {
      "cell_type": "code",
      "metadata": {
        "id": "ll32NBzh3T-t"
      },
      "source": [
        "from __future__ import print_function\r\n",
        "import torch\r\n",
        "import torch.nn as nn\r\n",
        "import torch.nn.functional as F\r\n",
        "import torch.optim as optim\r\n",
        "from torchvision import datasets, transforms"
      ],
      "execution_count": null,
      "outputs": []
    },
    {
      "cell_type": "code",
      "metadata": {
        "colab": {
          "base_uri": "https://localhost:8080/"
        },
        "id": "Oi3fID7ybgzW",
        "outputId": "ef134b9c-4e9f-4723-bc5c-b4dfe73e766e"
      },
      "source": [
        "def calc_rf(jin, k, rin):\r\n",
        "    rout = rin + ((k-1) * jin)\r\n",
        "    return rout\r\n",
        "\r\n",
        "calc_rf(8,1,84)"
      ],
      "execution_count": null,
      "outputs": [
        {
          "output_type": "execute_result",
          "data": {
            "text/plain": [
              "84"
            ]
          },
          "metadata": {
            "tags": []
          },
          "execution_count": 2
        }
      ]
    },
    {
      "cell_type": "code",
      "metadata": {
        "id": "qm5mxj-x3wCJ"
      },
      "source": [
        "import model\r\n",
        "import training\r\n",
        "import reg_tech\r\n",
        "import testing\r\n",
        "import dataloaders\r\n",
        "\r\n",
        "use_cuda = torch.cuda.is_available()\r\n",
        "device = torch.device(\"cuda\" if use_cuda else \"cpu\")\r\n",
        "\r\n",
        "net= model.network()\r\n",
        "\r\n",
        "\r\n",
        "\r\n",
        "\r\n",
        "classes = ('plane', 'car', 'bird', 'cat',\r\n",
        "           'deer', 'dog', 'frog', 'horse', 'ship', 'truck')"
      ],
      "execution_count": null,
      "outputs": []
    },
    {
      "cell_type": "code",
      "metadata": {
        "id": "UNn_hkCr62xz"
      },
      "source": [
        "train_losses = []\r\n",
        "test_losses = []"
      ],
      "execution_count": null,
      "outputs": []
    },
    {
      "cell_type": "code",
      "metadata": {
        "colab": {
          "base_uri": "https://localhost:8080/"
        },
        "id": "V1sVbQm6vQvS",
        "outputId": "2f7d5561-0bc7-427c-c8f8-c620ca7871f5"
      },
      "source": [
        "batch_size= 128\r\n",
        "model = net().to(device)\r\n",
        "train_loader, test_loader, sample_loader = dataloaders.data_loaders(batch_size)\r\n",
        "optimizer= reg_tech.hi_optimizer(model)"
      ],
      "execution_count": null,
      "outputs": [
        {
          "output_type": "stream",
          "text": [
            "Files already downloaded and verified\n",
            "Files already downloaded and verified\n"
          ],
          "name": "stdout"
        }
      ]
    },
    {
      "cell_type": "code",
      "metadata": {
        "colab": {
          "base_uri": "https://localhost:8080/"
        },
        "id": "AaGrG0g6vkck",
        "outputId": "dcb414b2-aeeb-4a96-d165-36be6fdf1cc6"
      },
      "source": [
        "# !pip install torchsummary\r\n",
        "from torchsummary import summary\r\n",
        "summary(model, input_size=(3, 32, 32))"
      ],
      "execution_count": null,
      "outputs": [
        {
          "output_type": "stream",
          "text": [
            "----------------------------------------------------------------\n",
            "        Layer (type)               Output Shape         Param #\n",
            "================================================================\n",
            "            Conv2d-1           [-1, 32, 32, 32]             896\n",
            "              ReLU-2           [-1, 32, 32, 32]               0\n",
            "       BatchNorm2d-3           [-1, 32, 32, 32]              64\n",
            "            Conv2d-4           [-1, 64, 32, 32]          18,496\n",
            "              ReLU-5           [-1, 64, 32, 32]               0\n",
            "       BatchNorm2d-6           [-1, 64, 32, 32]             128\n",
            "            Conv2d-7           [-1, 32, 32, 32]           2,080\n",
            "         MaxPool2d-8           [-1, 32, 16, 16]               0\n",
            "            Conv2d-9           [-1, 64, 16, 16]          18,496\n",
            "             ReLU-10           [-1, 64, 16, 16]               0\n",
            "      BatchNorm2d-11           [-1, 64, 16, 16]             128\n",
            "           Conv2d-12          [-1, 128, 12, 12]          73,856\n",
            "             ReLU-13          [-1, 128, 12, 12]               0\n",
            "      BatchNorm2d-14          [-1, 128, 12, 12]             256\n",
            "           Conv2d-15          [-1, 128, 12, 12]         147,584\n",
            "             ReLU-16          [-1, 128, 12, 12]               0\n",
            "      BatchNorm2d-17          [-1, 128, 12, 12]             256\n",
            "           Conv2d-18           [-1, 64, 12, 12]           8,256\n",
            "        MaxPool2d-19             [-1, 64, 6, 6]               0\n",
            "           Conv2d-20             [-1, 64, 6, 6]           1,216\n",
            "           Conv2d-21            [-1, 128, 6, 6]           8,320\n",
            "             ReLU-22            [-1, 128, 6, 6]               0\n",
            "      BatchNorm2d-23            [-1, 128, 6, 6]             256\n",
            "           Conv2d-24            [-1, 128, 6, 6]         147,584\n",
            "             ReLU-25            [-1, 128, 6, 6]               0\n",
            "      BatchNorm2d-26            [-1, 128, 6, 6]             256\n",
            "           Conv2d-27            [-1, 100, 6, 6]          12,900\n",
            "             ReLU-28            [-1, 100, 6, 6]               0\n",
            "        MaxPool2d-29            [-1, 100, 3, 3]               0\n",
            "           Conv2d-30            [-1, 128, 3, 3]         115,328\n",
            "             ReLU-31            [-1, 128, 3, 3]               0\n",
            "      BatchNorm2d-32            [-1, 128, 3, 3]             256\n",
            "           Conv2d-33            [-1, 256, 3, 3]         295,168\n",
            "             ReLU-34            [-1, 256, 3, 3]               0\n",
            "      BatchNorm2d-35            [-1, 256, 3, 3]             512\n",
            "        AvgPool2d-36            [-1, 256, 1, 1]               0\n",
            "           Conv2d-37             [-1, 10, 1, 1]           2,570\n",
            "================================================================\n",
            "Total params: 854,862\n",
            "Trainable params: 854,862\n",
            "Non-trainable params: 0\n",
            "----------------------------------------------------------------\n",
            "Input size (MB): 0.01\n",
            "Forward/backward pass size (MB): 4.24\n",
            "Params size (MB): 3.26\n",
            "Estimated Total Size (MB): 7.51\n",
            "----------------------------------------------------------------\n"
          ],
          "name": "stdout"
        },
        {
          "output_type": "stream",
          "text": [
            "/content/model.py:64: UserWarning: Implicit dimension choice for log_softmax has been deprecated. Change the call to include dim=X as an argument.\n",
            "  return F.log_softmax(x)\n"
          ],
          "name": "stderr"
        }
      ]
    },
    {
      "cell_type": "code",
      "metadata": {
        "colab": {
          "base_uri": "https://localhost:8080/",
          "height": 155
        },
        "id": "Uv6TkP-Rt4ts",
        "outputId": "926d1a27-c3f3-4bc1-f158-a0db2cc8c8a7"
      },
      "source": [
        "import misc\r\n",
        "\r\n",
        "misc.show_images(sample_loader, classes)"
      ],
      "execution_count": null,
      "outputs": [
        {
          "output_type": "stream",
          "text": [
            " deer   dog truck  ship\n"
          ],
          "name": "stdout"
        },
        {
          "output_type": "display_data",
          "data": {
            "image/png": "[encoded data removed]",
            "text/plain": [
              "<Figure size 432x288 with 1 Axes>"
            ]
          },
          "metadata": {
            "tags": [],
            "needs_background": "light"
          }
        }
      ]
    },
    {
      "cell_type": "code",
      "metadata": {
        "colab": {
          "base_uri": "https://localhost:8080/"
        },
        "id": "NmGxjLw05wLD",
        "outputId": "769ec85d-faf9-43eb-eeb9-528ad589ed98"
      },
      "source": [
        "for epoch in range(1, 35):\r\n",
        "    training.train(model, device, train_loader, optimizer, epoch)\r\n",
        "    test_loss = testing.test(model, device, test_loader)\r\n",
        "    print('Epoch-{0} lr: {1}'.format(epoch, optimizer.param_groups[0]['lr']))"
      ],
      "execution_count": null,
      "outputs": [
        {
          "output_type": "stream",
          "text": [
            "  0%|          | 0/391 [00:00<?, ?it/s]/content/model.py:64: UserWarning: Implicit dimension choice for log_softmax has been deprecated. Change the call to include dim=X as an argument.\n",
            "  return F.log_softmax(x)\n",
            "Loss=1.3078023195266724 Batch_id=390 Accuracy=41.60: 100%|██████████| 391/391 [00:26<00:00, 14.84it/s]\n",
            "  0%|          | 0/391 [00:00<?, ?it/s]"
          ],
          "name": "stderr"
        },
        {
          "output_type": "stream",
          "text": [
            "\n",
            "Test set: Average loss: 0.0106, Accuracy: 5125/10000 (51.25%)\n",
            "\n",
            "Epoch-1 lr: 0.001\n"
          ],
          "name": "stdout"
        },
        {
          "output_type": "stream",
          "text": [
            "Loss=1.1037800312042236 Batch_id=390 Accuracy=57.21: 100%|██████████| 391/391 [00:25<00:00, 15.13it/s]\n",
            "  0%|          | 0/391 [00:00<?, ?it/s]"
          ],
          "name": "stderr"
        },
        {
          "output_type": "stream",
          "text": [
            "\n",
            "Test set: Average loss: 0.0088, Accuracy: 5959/10000 (59.59%)\n",
            "\n",
            "Epoch-2 lr: 0.001\n"
          ],
          "name": "stdout"
        },
        {
          "output_type": "stream",
          "text": [
            "Loss=0.9422881007194519 Batch_id=390 Accuracy=63.68: 100%|██████████| 391/391 [00:25<00:00, 15.34it/s]\n",
            "  0%|          | 0/391 [00:00<?, ?it/s]"
          ],
          "name": "stderr"
        },
        {
          "output_type": "stream",
          "text": [
            "\n",
            "Test set: Average loss: 0.0080, Accuracy: 6409/10000 (64.09%)\n",
            "\n",
            "Epoch-3 lr: 0.001\n"
          ],
          "name": "stdout"
        },
        {
          "output_type": "stream",
          "text": [
            "Loss=0.6564419865608215 Batch_id=390 Accuracy=68.20: 100%|██████████| 391/391 [00:25<00:00, 15.20it/s]\n",
            "  0%|          | 0/391 [00:00<?, ?it/s]"
          ],
          "name": "stderr"
        },
        {
          "output_type": "stream",
          "text": [
            "\n",
            "Test set: Average loss: 0.0071, Accuracy: 6886/10000 (68.86%)\n",
            "\n",
            "Epoch-4 lr: 0.001\n"
          ],
          "name": "stdout"
        },
        {
          "output_type": "stream",
          "text": [
            "Loss=0.6792171001434326 Batch_id=390 Accuracy=71.10: 100%|██████████| 391/391 [00:25<00:00, 15.31it/s]\n",
            "  0%|          | 0/391 [00:00<?, ?it/s]"
          ],
          "name": "stderr"
        },
        {
          "output_type": "stream",
          "text": [
            "\n",
            "Test set: Average loss: 0.0065, Accuracy: 7156/10000 (71.56%)\n",
            "\n",
            "Epoch-5 lr: 0.001\n"
          ],
          "name": "stdout"
        },
        {
          "output_type": "stream",
          "text": [
            "Loss=0.6517268419265747 Batch_id=390 Accuracy=73.69: 100%|██████████| 391/391 [00:25<00:00, 15.42it/s]\n",
            "  0%|          | 0/391 [00:00<?, ?it/s]"
          ],
          "name": "stderr"
        },
        {
          "output_type": "stream",
          "text": [
            "\n",
            "Test set: Average loss: 0.0059, Accuracy: 7378/10000 (73.78%)\n",
            "\n",
            "Epoch-6 lr: 0.001\n"
          ],
          "name": "stdout"
        },
        {
          "output_type": "stream",
          "text": [
            "Loss=0.6136137247085571 Batch_id=390 Accuracy=75.67: 100%|██████████| 391/391 [00:25<00:00, 15.42it/s]\n",
            "  0%|          | 0/391 [00:00<?, ?it/s]"
          ],
          "name": "stderr"
        },
        {
          "output_type": "stream",
          "text": [
            "\n",
            "Test set: Average loss: 0.0056, Accuracy: 7488/10000 (74.88%)\n",
            "\n",
            "Epoch-7 lr: 0.001\n"
          ],
          "name": "stdout"
        },
        {
          "output_type": "stream",
          "text": [
            "Loss=0.43655380606651306 Batch_id=390 Accuracy=76.93: 100%|██████████| 391/391 [00:25<00:00, 15.45it/s]\n",
            "  0%|          | 0/391 [00:00<?, ?it/s]"
          ],
          "name": "stderr"
        },
        {
          "output_type": "stream",
          "text": [
            "\n",
            "Test set: Average loss: 0.0055, Accuracy: 7554/10000 (75.54%)\n",
            "\n",
            "Epoch-8 lr: 0.001\n"
          ],
          "name": "stdout"
        },
        {
          "output_type": "stream",
          "text": [
            "Loss=0.685996413230896 Batch_id=390 Accuracy=78.46: 100%|██████████| 391/391 [00:25<00:00, 15.44it/s]\n",
            "  0%|          | 0/391 [00:00<?, ?it/s]"
          ],
          "name": "stderr"
        },
        {
          "output_type": "stream",
          "text": [
            "\n",
            "Test set: Average loss: 0.0053, Accuracy: 7677/10000 (76.77%)\n",
            "\n",
            "Epoch-9 lr: 0.001\n"
          ],
          "name": "stdout"
        },
        {
          "output_type": "stream",
          "text": [
            "Loss=0.49486541748046875 Batch_id=390 Accuracy=79.41: 100%|██████████| 391/391 [00:25<00:00, 15.44it/s]\n",
            "  0%|          | 0/391 [00:00<?, ?it/s]"
          ],
          "name": "stderr"
        },
        {
          "output_type": "stream",
          "text": [
            "\n",
            "Test set: Average loss: 0.0050, Accuracy: 7783/10000 (77.83%)\n",
            "\n",
            "Epoch-10 lr: 0.001\n"
          ],
          "name": "stdout"
        },
        {
          "output_type": "stream",
          "text": [
            "Loss=0.5748616456985474 Batch_id=390 Accuracy=80.42: 100%|██████████| 391/391 [00:25<00:00, 15.63it/s]\n",
            "  0%|          | 0/391 [00:00<?, ?it/s]"
          ],
          "name": "stderr"
        },
        {
          "output_type": "stream",
          "text": [
            "\n",
            "Test set: Average loss: 0.0048, Accuracy: 7903/10000 (79.03%)\n",
            "\n",
            "Epoch-11 lr: 0.001\n"
          ],
          "name": "stdout"
        },
        {
          "output_type": "stream",
          "text": [
            "Loss=0.5316613912582397 Batch_id=390 Accuracy=81.09: 100%|██████████| 391/391 [00:25<00:00, 15.36it/s]\n",
            "  0%|          | 0/391 [00:00<?, ?it/s]"
          ],
          "name": "stderr"
        },
        {
          "output_type": "stream",
          "text": [
            "\n",
            "Test set: Average loss: 0.0048, Accuracy: 7875/10000 (78.75%)\n",
            "\n",
            "Epoch-12 lr: 0.001\n"
          ],
          "name": "stdout"
        },
        {
          "output_type": "stream",
          "text": [
            "Loss=0.4433303475379944 Batch_id=390 Accuracy=81.93: 100%|██████████| 391/391 [00:25<00:00, 15.61it/s]\n",
            "  0%|          | 0/391 [00:00<?, ?it/s]"
          ],
          "name": "stderr"
        },
        {
          "output_type": "stream",
          "text": [
            "\n",
            "Test set: Average loss: 0.0047, Accuracy: 7939/10000 (79.39%)\n",
            "\n",
            "Epoch-13 lr: 0.001\n"
          ],
          "name": "stdout"
        },
        {
          "output_type": "stream",
          "text": [
            "Loss=0.5723570585250854 Batch_id=390 Accuracy=82.41: 100%|██████████| 391/391 [00:25<00:00, 15.50it/s]\n",
            "  0%|          | 0/391 [00:00<?, ?it/s]"
          ],
          "name": "stderr"
        },
        {
          "output_type": "stream",
          "text": [
            "\n",
            "Test set: Average loss: 0.0047, Accuracy: 7984/10000 (79.84%)\n",
            "\n",
            "Epoch-14 lr: 0.001\n"
          ],
          "name": "stdout"
        },
        {
          "output_type": "stream",
          "text": [
            "Loss=0.5499010682106018 Batch_id=390 Accuracy=83.13: 100%|██████████| 391/391 [00:25<00:00, 15.46it/s]\n",
            "  0%|          | 0/391 [00:00<?, ?it/s]"
          ],
          "name": "stderr"
        },
        {
          "output_type": "stream",
          "text": [
            "\n",
            "Test set: Average loss: 0.0044, Accuracy: 8114/10000 (81.14%)\n",
            "\n",
            "Epoch-15 lr: 0.001\n"
          ],
          "name": "stdout"
        },
        {
          "output_type": "stream",
          "text": [
            "Loss=0.33336132764816284 Batch_id=390 Accuracy=83.82: 100%|██████████| 391/391 [00:24<00:00, 15.70it/s]\n",
            "  0%|          | 0/391 [00:00<?, ?it/s]"
          ],
          "name": "stderr"
        },
        {
          "output_type": "stream",
          "text": [
            "\n",
            "Test set: Average loss: 0.0043, Accuracy: 8142/10000 (81.42%)\n",
            "\n",
            "Epoch-16 lr: 0.001\n"
          ],
          "name": "stdout"
        },
        {
          "output_type": "stream",
          "text": [
            "Loss=0.21509678661823273 Batch_id=390 Accuracy=84.33: 100%|██████████| 391/391 [00:25<00:00, 15.57it/s]\n",
            "  0%|          | 0/391 [00:00<?, ?it/s]"
          ],
          "name": "stderr"
        },
        {
          "output_type": "stream",
          "text": [
            "\n",
            "Test set: Average loss: 0.0043, Accuracy: 8124/10000 (81.24%)\n",
            "\n",
            "Epoch-17 lr: 0.001\n"
          ],
          "name": "stdout"
        },
        {
          "output_type": "stream",
          "text": [
            "Loss=0.28126436471939087 Batch_id=390 Accuracy=84.86: 100%|██████████| 391/391 [00:25<00:00, 15.58it/s]\n",
            "  0%|          | 0/391 [00:00<?, ?it/s]"
          ],
          "name": "stderr"
        },
        {
          "output_type": "stream",
          "text": [
            "\n",
            "Test set: Average loss: 0.0042, Accuracy: 8193/10000 (81.93%)\n",
            "\n",
            "Epoch-18 lr: 0.001\n"
          ],
          "name": "stdout"
        },
        {
          "output_type": "stream",
          "text": [
            "Loss=0.4375831186771393 Batch_id=390 Accuracy=85.46: 100%|██████████| 391/391 [00:24<00:00, 15.76it/s]\n",
            "  0%|          | 0/391 [00:00<?, ?it/s]"
          ],
          "name": "stderr"
        },
        {
          "output_type": "stream",
          "text": [
            "\n",
            "Test set: Average loss: 0.0043, Accuracy: 8134/10000 (81.34%)\n",
            "\n",
            "Epoch-19 lr: 0.001\n"
          ],
          "name": "stdout"
        },
        {
          "output_type": "stream",
          "text": [
            "Loss=0.39328140020370483 Batch_id=390 Accuracy=85.65: 100%|██████████| 391/391 [00:25<00:00, 15.39it/s]\n",
            "  0%|          | 0/391 [00:00<?, ?it/s]"
          ],
          "name": "stderr"
        },
        {
          "output_type": "stream",
          "text": [
            "\n",
            "Test set: Average loss: 0.0041, Accuracy: 8254/10000 (82.54%)\n",
            "\n",
            "Epoch-20 lr: 0.001\n"
          ],
          "name": "stdout"
        },
        {
          "output_type": "stream",
          "text": [
            "Loss=0.31194162368774414 Batch_id=390 Accuracy=86.19: 100%|██████████| 391/391 [00:25<00:00, 15.57it/s]\n",
            "  0%|          | 0/391 [00:00<?, ?it/s]"
          ],
          "name": "stderr"
        },
        {
          "output_type": "stream",
          "text": [
            "\n",
            "Test set: Average loss: 0.0041, Accuracy: 8242/10000 (82.42%)\n",
            "\n",
            "Epoch-21 lr: 0.001\n"
          ],
          "name": "stdout"
        },
        {
          "output_type": "stream",
          "text": [
            "Loss=0.4693191945552826 Batch_id=390 Accuracy=86.46: 100%|██████████| 391/391 [00:24<00:00, 15.71it/s]\n",
            "  0%|          | 0/391 [00:00<?, ?it/s]"
          ],
          "name": "stderr"
        },
        {
          "output_type": "stream",
          "text": [
            "\n",
            "Test set: Average loss: 0.0042, Accuracy: 8207/10000 (82.07%)\n",
            "\n",
            "Epoch-22 lr: 0.001\n"
          ],
          "name": "stdout"
        },
        {
          "output_type": "stream",
          "text": [
            "Loss=0.38035982847213745 Batch_id=390 Accuracy=86.85: 100%|██████████| 391/391 [00:25<00:00, 15.55it/s]\n",
            "  0%|          | 0/391 [00:00<?, ?it/s]"
          ],
          "name": "stderr"
        },
        {
          "output_type": "stream",
          "text": [
            "\n",
            "Test set: Average loss: 0.0041, Accuracy: 8227/10000 (82.27%)\n",
            "\n",
            "Epoch-23 lr: 0.001\n"
          ],
          "name": "stdout"
        },
        {
          "output_type": "stream",
          "text": [
            "Loss=0.4022156298160553 Batch_id=390 Accuracy=87.29: 100%|██████████| 391/391 [00:24<00:00, 15.73it/s]\n",
            "  0%|          | 0/391 [00:00<?, ?it/s]"
          ],
          "name": "stderr"
        },
        {
          "output_type": "stream",
          "text": [
            "\n",
            "Test set: Average loss: 0.0041, Accuracy: 8254/10000 (82.54%)\n",
            "\n",
            "Epoch-24 lr: 0.001\n"
          ],
          "name": "stdout"
        },
        {
          "output_type": "stream",
          "text": [
            "Loss=0.43280228972435 Batch_id=390 Accuracy=87.47: 100%|██████████| 391/391 [00:25<00:00, 15.61it/s]\n",
            "  0%|          | 0/391 [00:00<?, ?it/s]"
          ],
          "name": "stderr"
        },
        {
          "output_type": "stream",
          "text": [
            "\n",
            "Test set: Average loss: 0.0038, Accuracy: 8358/10000 (83.58%)\n",
            "\n",
            "Epoch-25 lr: 0.001\n"
          ],
          "name": "stdout"
        },
        {
          "output_type": "stream",
          "text": [
            "Loss=0.29602426290512085 Batch_id=390 Accuracy=87.70: 100%|██████████| 391/391 [00:24<00:00, 15.76it/s]\n",
            "  0%|          | 0/391 [00:00<?, ?it/s]"
          ],
          "name": "stderr"
        },
        {
          "output_type": "stream",
          "text": [
            "\n",
            "Test set: Average loss: 0.0039, Accuracy: 8304/10000 (83.04%)\n",
            "\n",
            "Epoch-26 lr: 0.001\n"
          ],
          "name": "stdout"
        },
        {
          "output_type": "stream",
          "text": [
            "Loss=0.22164137661457062 Batch_id=390 Accuracy=88.25: 100%|██████████| 391/391 [00:24<00:00, 15.66it/s]\n",
            "  0%|          | 0/391 [00:00<?, ?it/s]"
          ],
          "name": "stderr"
        },
        {
          "output_type": "stream",
          "text": [
            "\n",
            "Test set: Average loss: 0.0038, Accuracy: 8408/10000 (84.08%)\n",
            "\n",
            "Epoch-27 lr: 0.001\n"
          ],
          "name": "stdout"
        },
        {
          "output_type": "stream",
          "text": [
            "Loss=0.28000080585479736 Batch_id=390 Accuracy=88.47: 100%|██████████| 391/391 [00:24<00:00, 15.77it/s]\n",
            "  0%|          | 0/391 [00:00<?, ?it/s]"
          ],
          "name": "stderr"
        },
        {
          "output_type": "stream",
          "text": [
            "\n",
            "Test set: Average loss: 0.0039, Accuracy: 8364/10000 (83.64%)\n",
            "\n",
            "Epoch-28 lr: 0.001\n"
          ],
          "name": "stdout"
        },
        {
          "output_type": "stream",
          "text": [
            "Loss=0.29731178283691406 Batch_id=390 Accuracy=88.79: 100%|██████████| 391/391 [00:25<00:00, 15.63it/s]\n",
            "  0%|          | 0/391 [00:00<?, ?it/s]"
          ],
          "name": "stderr"
        },
        {
          "output_type": "stream",
          "text": [
            "\n",
            "Test set: Average loss: 0.0040, Accuracy: 8370/10000 (83.70%)\n",
            "\n",
            "Epoch-29 lr: 0.001\n"
          ],
          "name": "stdout"
        },
        {
          "output_type": "stream",
          "text": [
            "Loss=0.39954355359077454 Batch_id=390 Accuracy=88.85: 100%|██████████| 391/391 [00:25<00:00, 15.52it/s]\n",
            "  0%|          | 0/391 [00:00<?, ?it/s]"
          ],
          "name": "stderr"
        },
        {
          "output_type": "stream",
          "text": [
            "\n",
            "Test set: Average loss: 0.0038, Accuracy: 8406/10000 (84.06%)\n",
            "\n",
            "Epoch-30 lr: 0.001\n"
          ],
          "name": "stdout"
        },
        {
          "output_type": "stream",
          "text": [
            "Loss=0.2766609489917755 Batch_id=390 Accuracy=89.09: 100%|██████████| 391/391 [00:25<00:00, 15.54it/s]\n",
            "  0%|          | 0/391 [00:00<?, ?it/s]"
          ],
          "name": "stderr"
        },
        {
          "output_type": "stream",
          "text": [
            "\n",
            "Test set: Average loss: 0.0039, Accuracy: 8355/10000 (83.55%)\n",
            "\n",
            "Epoch-31 lr: 0.001\n"
          ],
          "name": "stdout"
        },
        {
          "output_type": "stream",
          "text": [
            "Loss=0.4508884847164154 Batch_id=390 Accuracy=89.28: 100%|██████████| 391/391 [00:24<00:00, 15.74it/s]\n",
            "  0%|          | 0/391 [00:00<?, ?it/s]"
          ],
          "name": "stderr"
        },
        {
          "output_type": "stream",
          "text": [
            "\n",
            "Test set: Average loss: 0.0038, Accuracy: 8413/10000 (84.13%)\n",
            "\n",
            "Epoch-32 lr: 0.001\n"
          ],
          "name": "stdout"
        },
        {
          "output_type": "stream",
          "text": [
            "Loss=0.2935599684715271 Batch_id=390 Accuracy=89.67: 100%|██████████| 391/391 [00:25<00:00, 15.41it/s]\n",
            "  0%|          | 0/391 [00:00<?, ?it/s]"
          ],
          "name": "stderr"
        },
        {
          "output_type": "stream",
          "text": [
            "\n",
            "Test set: Average loss: 0.0038, Accuracy: 8437/10000 (84.37%)\n",
            "\n",
            "Epoch-33 lr: 0.001\n"
          ],
          "name": "stdout"
        },
        {
          "output_type": "stream",
          "text": [
            "Loss=0.31002265214920044 Batch_id=390 Accuracy=89.94: 100%|██████████| 391/391 [00:25<00:00, 15.49it/s]\n"
          ],
          "name": "stderr"
        },
        {
          "output_type": "stream",
          "text": [
            "\n",
            "Test set: Average loss: 0.0039, Accuracy: 8374/10000 (83.74%)\n",
            "\n",
            "Epoch-34 lr: 0.001\n"
          ],
          "name": "stdout"
        }
      ]
    }
  ]
}