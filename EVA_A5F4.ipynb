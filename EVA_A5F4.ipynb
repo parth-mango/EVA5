{
  "nbformat": 4,
  "nbformat_minor": 0,
  "metadata": {
    "accelerator": "GPU",
    "colab": {
      "name": "EVA A5F4.ipynb",
      "provenance": [],
      "collapsed_sections": [],
      "include_colab_link": true
    },
    "kernelspec": {
      "display_name": "Python 3",
      "name": "python3"
    }
  },
  "cells": [
    {
      "cell_type": "markdown",
      "metadata": {
        "id": "view-in-github",
        "colab_type": "text"
      },
      "source": [
        "<a href=\"https://colab.research.google.com/github/parth-mango/EVA5-Assignments/blob/main/EVA_A5F4.ipynb\" target=\"_parent\"><img src=\"https://colab.research.google.com/assets/colab-badge.svg\" alt=\"Open In Colab\"/></a>"
      ]
    },
    {
      "cell_type": "markdown",
      "metadata": {
        "id": "-rnrhrdEmz9u"
      },
      "source": [
        "#Target\r\n",
        "  * Add rotation transform \r\n",
        "\r\n",
        "#Result\r\n",
        "  * Parameters - 7,216\r\n",
        "  * Performance - 99.42%\r\n",
        "\r\n",
        "#Analysis\r\n",
        "  * Applying random rotation did improve the performance\r\n",
        "  * Using LR scheduler might improve the performance further "
      ]
    },
    {
      "cell_type": "code",
      "metadata": {
        "id": "0m2JWFliFfKT"
      },
      "source": [
        "from __future__ import print_function\n",
        "import torch\n",
        "import torch.nn as nn\n",
        "import torch.nn.functional as F\n",
        "import torch.optim as optim\n",
        "from torchvision import datasets, transforms"
      ],
      "execution_count": null,
      "outputs": []
    },
    {
      "cell_type": "code",
      "metadata": {
        "id": "h_Cx9q2QFgM7"
      },
      "source": [
        "# class Net(nn.Module):\n",
        "#     def __init__(self):\n",
        "#         super(Net, self).__init__()\n",
        "# class Net(nn.Module):\n",
        "#     def __init__(self):\n",
        "#         super(Net, self).__init__()\n",
        "#         self.conv = nn.Sequential(\n",
        "#             nn.Conv2d(1, 4, 3, padding=1), #28x28x1 > 28x28x4 : RF: 3x3\n",
        "#             nn.ReLU(),\n",
        "#             nn.BatchNorm2d(4),\n",
        "#             nn.Conv2d(4, 4, 3, padding=1), # 28x28x4 > 28x28x4 : RF: 5x5\n",
        "#             nn.ReLU(),\n",
        "#             nn.BatchNorm2d(4),\n",
        "#             nn.Conv2d(4, 8, 3, padding=1), #28x28x4 >  28x28x8 RF: 7x7\n",
        "#             nn.ReLU(),\n",
        "#             nn.BatchNorm2d(8),\n",
        "#             nn.MaxPool2d(2,2),\n",
        "#             nn.Conv2d(8, 12, 3, padding=1), #14x14x8  > 14x14x12 : RF: 14x14\n",
        "#             nn.ReLU(),\n",
        "#             nn.BatchNorm2d(12), \n",
        "#             nn.Conv2d(12, 12, 3, padding= 1), # 14x14x12 > 14x14x12  : RF: 16x16\n",
        "#             nn.ReLU(),\n",
        "#             nn.BatchNorm2d(12),\n",
        "#             nn.Conv2d(12, 16, 3, padding= 1), # 14x14x12  > 14x14x16 : RF: 18x18\n",
        "#             nn.ReLU(),\n",
        "#             nn.BatchNorm2d(16),\n",
        "#             nn.MaxPool2d(2,2),\n",
        "#             nn.Conv2d(16, 20, 3), # 7x7x16 > 5x5x20 : RF: 36x36\n",
        "#             nn.ReLU(),\n",
        "#             nn.BatchNorm2d(20),\n",
        "#             nn.Conv2d(20, 10, 3), #5x5x20 > 3x3x10 : RF: 38x38\n",
        "#             nn.AvgPool2d(3, 2), # 3x3x10 > 1x1x10 : RF: 77x77\n",
        "#         )\n",
        " \n",
        "        \n",
        "#     def forward(self, x):\n",
        "#         x = self.conv(x)\n",
        "#         x = x.view(-1, 10)\n",
        "#         return F.log_softmax(x)"
      ],
      "execution_count": null,
      "outputs": []
    },
    {
      "cell_type": "code",
      "metadata": {
        "id": "BaUWkfBKOlw_"
      },
      "source": [
        "# Use of 1x1 , put bias= False\r\n",
        "\r\n",
        "# Model parameters: 33k , accuracy= >99.4\r\n",
        "\r\n",
        "# dropout_value= 0.1\r\n",
        "\r\n",
        "# class Net(nn.Module):\r\n",
        "#     def __init__(self):\r\n",
        "#         super(Net, self).__init__()\r\n",
        "#         self.conv = nn.Sequential(\r\n",
        "#             nn.Conv2d(1, 8, 3, padding=1), #28x28x1 > 28x28x4 : RF: 3x3\r\n",
        "#             nn.ReLU(),\r\n",
        "#             nn.BatchNorm2d(8),\r\n",
        "#             nn.Dropout(dropout_value),\r\n",
        "#             nn.Conv2d(8, 16, 3, padding=1), # 28x28x4 > 28x28x4 : RF: 5x5\r\n",
        "#             nn.ReLU(),\r\n",
        "#             nn.BatchNorm2d(16),\r\n",
        "#             nn.Dropout(dropout_value),\r\n",
        "#             nn.Conv2d(16, 32, 3, padding=1), #28x28x4 >  28x28x8 RF: 7x7\r\n",
        "#             # nn.ReLU(),\r\n",
        "#             # nn.BatchNorm2d(16),\r\n",
        "#             # nn.Dropout(dropout_value),\r\n",
        "#             nn.MaxPool2d(2,2),\r\n",
        "#             #transition block\r\n",
        "#             nn.Conv2d(32, 12, 1),\r\n",
        "#             nn.ReLU(),\r\n",
        "#             nn.BatchNorm2d(12),\r\n",
        "#             nn.Dropout(dropout_value),\r\n",
        "#             nn.Conv2d(12, 24, 3), #14x14x8  > 14x14x12 : RF: 14x14\r\n",
        "#             nn.ReLU(),\r\n",
        "#             nn.BatchNorm2d(24), \r\n",
        "#             nn.Dropout(dropout_value),\r\n",
        "#             nn.Conv2d(24, 24, 3), # 14x14x12 > 14x14x12  : RF: 16x16\r\n",
        "#             nn.ReLU(),\r\n",
        "#             nn.BatchNorm2d(24),\r\n",
        "#             nn.Dropout(dropout_value),\r\n",
        "#             nn.Conv2d(24, 24, 3), # 14x14x12  > 14x14x16 : RF: 18x18\r\n",
        "#             nn.ReLU(),\r\n",
        "#             nn.BatchNorm2d(24),\r\n",
        "#             nn.Dropout(dropout_value),\r\n",
        "#             nn.Conv2d(24, 28, 3), # 7x7x16 > 5x5x20 : RF: 36x36\r\n",
        "#             nn.ReLU(),\r\n",
        "#             nn.BatchNorm2d(28),\r\n",
        "#             nn.Dropout(dropout_value),\r\n",
        "#             nn.Conv2d(28, 28, 3), # 7x7x16 > 5x5x20 : RF: 36x36\r\n",
        "#             nn.ReLU(),\r\n",
        "#             nn.BatchNorm2d(28),\r\n",
        "#             nn.Dropout(dropout_value),\r\n",
        "#             # nn.Conv2d(20, 10, 3), #5x5x20 > 3x3x10 : RF: 38x38\r\n",
        "#             nn.AvgPool2d(4, 2), # 3x3x10 > 1x1x10 : RF: 77x77\r\n",
        "#             nn.Conv2d(28, 10 , 1)\r\n",
        "#         )\r\n",
        " \r\n",
        "        \r\n",
        "#     def forward(self, x):\r\n",
        "#         x = self.conv(x)\r\n",
        "#         x = x.view(-1, 10)\r\n",
        "#         return F.log_softmax(x)"
      ],
      "execution_count": null,
      "outputs": []
    },
    {
      "cell_type": "code",
      "metadata": {
        "id": "AbUSR-kLYlFC"
      },
      "source": [
        "# # Model parameters: 11k , accuracy= >99.4(once)\r\n",
        "# dropout_value= 0.1\r\n",
        "\r\n",
        "# class Net(nn.Module):\r\n",
        "#     def __init__(self):\r\n",
        "#         super(Net, self).__init__()\r\n",
        "#         self.conv = nn.Sequential(\r\n",
        "#             nn.Conv2d(1, 8, 3, padding=1), #28x28x1 > 28x28x4 : RF: 3x3\r\n",
        "#             nn.ReLU(),\r\n",
        "#             nn.BatchNorm2d(8),\r\n",
        "#             nn.Dropout(dropout_value),\r\n",
        "#             nn.Conv2d(8, 12, 3, padding=1), # 28x28x4 > 28x28x4 : RF: 5x5\r\n",
        "#             nn.ReLU(),\r\n",
        "#             nn.BatchNorm2d(12),\r\n",
        "#             nn.Dropout(dropout_value),\r\n",
        "#             nn.Conv2d(12, 12, 3, padding=1), #28x28x4 >  28x28x8 RF: 7x7\r\n",
        "#             # nn.ReLU(),\r\n",
        "#             # nn.BatchNorm2d(16),\r\n",
        "#             # nn.Dropout(dropout_value),\r\n",
        "#             nn.MaxPool2d(2,2),\r\n",
        "#             #transition block\r\n",
        "#             nn.Conv2d(12, 6, 1),\r\n",
        "#             nn.ReLU(),\r\n",
        "#             nn.BatchNorm2d(6),\r\n",
        "#             nn.Dropout(dropout_value),\r\n",
        "#             nn.Conv2d(6, 12, 3), #14x14x8  > 14x14x12 : RF: 14x14\r\n",
        "#             nn.ReLU(),\r\n",
        "#             nn.BatchNorm2d(12), \r\n",
        "#             nn.Dropout(dropout_value),\r\n",
        "#             nn.Conv2d(12, 12, 3), # 14x14x12 > 14x14x12  : RF: 16x16\r\n",
        "#             nn.ReLU(),\r\n",
        "#             nn.BatchNorm2d(12),\r\n",
        "#             nn.Dropout(dropout_value),\r\n",
        "#             nn.Conv2d(12, 16, 3), # 14x14x12  > 14x14x16 : RF: 18x18\r\n",
        "#             nn.ReLU(),\r\n",
        "#             nn.BatchNorm2d(16),\r\n",
        "#             nn.Dropout(dropout_value),\r\n",
        "#             # nn.Conv2d(16, 6, 1),\r\n",
        "#             # nn.ReLU(),\r\n",
        "#             # nn.BatchNorm2d(6),\r\n",
        "#             # nn.Dropout(dropout_value),\r\n",
        "#             nn.Conv2d(16, 16, 3), # 7x7x16 > 5x5x20 : RF: 36x36\r\n",
        "#             nn.ReLU(),\r\n",
        "#             nn.BatchNorm2d(16),\r\n",
        "#             nn.Dropout(dropout_value),\r\n",
        "#             nn.Conv2d(16, 16, 3), # 7x7x16 > 5x5x20 : RF: 36x36\r\n",
        "#             nn.ReLU(),\r\n",
        "#             nn.BatchNorm2d(16),\r\n",
        "#             nn.Dropout(dropout_value),\r\n",
        "#             # nn.Conv2d(20, 10, 3), #5x5x20 > 3x3x10 : RF: 38x38\r\n",
        "#             nn.AvgPool2d(4, 2), # 3x3x10 > 1x1x10 : RF: 77x77\r\n",
        "#             nn.Conv2d(16, 10 , 1)\r\n",
        "#         )\r\n",
        " \r\n",
        "        \r\n",
        "#     def forward(self, x):\r\n",
        "#         x = self.conv(x)\r\n",
        "#         x = x.view(-1, 10)\r\n",
        "#         return F.log_softmax(x)"
      ],
      "execution_count": null,
      "outputs": []
    },
    {
      "cell_type": "code",
      "metadata": {
        "id": "lFj9Vx2Hd0lV"
      },
      "source": [
        "# Model parameters: 8.5k , accuracy= >99.3\r\n",
        "# dropout_value= 0.07\r\n",
        "\r\n",
        "# class Net(nn.Module):\r\n",
        "#     def __init__(self):\r\n",
        "#         super(Net, self).__init__()\r\n",
        "#         self.conv = nn.Sequential(\r\n",
        "#             nn.Conv2d(1, 8, 3, padding=1), #28x28x1 > 28x28x4 : RF: 3x3\r\n",
        "#             nn.ReLU(),\r\n",
        "#             nn.BatchNorm2d(8),\r\n",
        "#             nn.Dropout(dropout_value),\r\n",
        "#             nn.Conv2d(8, 12, 3, padding=1), # 28x28x4 > 28x28x4 : RF: 5x5\r\n",
        "#             nn.ReLU(),\r\n",
        "#             nn.BatchNorm2d(12),\r\n",
        "#             nn.Dropout(dropout_value),\r\n",
        "#             nn.Conv2d(12, 12, 3, padding=1), #28x28x4 >  28x28x8 RF: 7x7\r\n",
        "#             # nn.ReLU(),\r\n",
        "#             # nn.BatchNorm2d(16),\r\n",
        "#             # nn.Dropout(dropout_value),\r\n",
        "#             nn.MaxPool2d(2,2),\r\n",
        "#             #transition block\r\n",
        "#             nn.Conv2d(12, 6, 1),\r\n",
        "#             nn.ReLU(),\r\n",
        "#             nn.BatchNorm2d(6),\r\n",
        "#             nn.Dropout(dropout_value),\r\n",
        "#             nn.Conv2d(6, 12, 3), #14x14x8  > 14x14x12 : RF: 14x14\r\n",
        "#             nn.ReLU(),\r\n",
        "#             nn.BatchNorm2d(12), \r\n",
        "#             nn.Dropout(dropout_value),\r\n",
        "#             nn.Conv2d(12, 12, 3), # 14x14x12 > 14x14x12  : RF: 16x16\r\n",
        "#             nn.ReLU(),\r\n",
        "#             nn.BatchNorm2d(12),\r\n",
        "#             nn.Dropout(dropout_value),\r\n",
        "#             nn.Conv2d(12, 12, 3), # 14x14x12  > 14x14x16 : RF: 18x18\r\n",
        "#             nn.ReLU(),\r\n",
        "#             nn.BatchNorm2d(12),\r\n",
        "#             nn.Dropout(dropout_value),\r\n",
        "#             # nn.Conv2d(16, 6, 1),\r\n",
        "#             # nn.ReLU(),\r\n",
        "#             # nn.BatchNorm2d(6),\r\n",
        "#             # nn.Dropout(dropout_value),\r\n",
        "#             nn.Conv2d(12, 12, 3), # 7x7x16 > 5x5x20 : RF: 36x36\r\n",
        "#             nn.ReLU(),\r\n",
        "#             nn.BatchNorm2d(12),\r\n",
        "#             nn.Dropout(dropout_value),\r\n",
        "#             nn.Conv2d(12, 12, 3), # 7x7x16 > 5x5x20 : RF: 36x36\r\n",
        "#             nn.ReLU(),\r\n",
        "#             nn.BatchNorm2d(12),\r\n",
        "#             nn.Dropout(dropout_value),\r\n",
        "#             # nn.Conv2d(20, 10, 3), #5x5x20 > 3x3x10 : RF: 38x38\r\n",
        "#             nn.AvgPool2d(4, 2), # 3x3x10 > 1x1x10 : RF: 77x77\r\n",
        "#             nn.Conv2d(12, 10 , 1)\r\n",
        "#         )\r\n",
        " \r\n",
        "        \r\n",
        "#     def forward(self, x):\r\n",
        "#         x = self.conv(x)\r\n",
        "#         x = x.view(-1, 10)\r\n",
        "#         return F.log_softmax(x)"
      ],
      "execution_count": null,
      "outputs": []
    },
    {
      "cell_type": "code",
      "metadata": {
        "id": "Hbz2_3L-hldM"
      },
      "source": [
        "# # Model parameters: 7.2k , accuracy= >99.4(Thrice)\r\n",
        "\r\n",
        "# dropout_value= 0.07\r\n",
        "\r\n",
        "# class Net(nn.Module):\r\n",
        "#     def __init__(self):\r\n",
        "#         super(Net, self).__init__()\r\n",
        "#         self.conv = nn.Sequential(\r\n",
        "#             nn.Conv2d(1, 8, 3, padding=1), #28x28x1 > 28x28x4 : RF: 3x3\r\n",
        "#             nn.ReLU(),\r\n",
        "#             nn.BatchNorm2d(8),\r\n",
        "#             nn.Dropout(dropout_value),\r\n",
        "#             nn.Conv2d(8, 12, 3, padding=1), # 28x28x4 > 28x28x4 : RF: 5x5\r\n",
        "#             nn.ReLU(),\r\n",
        "#             nn.BatchNorm2d(12), \r\n",
        "#             nn.Dropout(dropout_value),\r\n",
        "#             #transition block\r\n",
        "#             nn.Conv2d(12, 6, 1),\r\n",
        "#             nn.MaxPool2d(2,2),\r\n",
        "#             nn.Conv2d(6, 12, 3), #14x14x8  > 14x14x12 : RF: 14x14\r\n",
        "#             nn.ReLU(),\r\n",
        "#             nn.BatchNorm2d(12), \r\n",
        "#             nn.Dropout(dropout_value),\r\n",
        "#             nn.Conv2d(12, 12, 3), # 14x14x12 > 14x14x12  : RF: 16x16\r\n",
        "#             nn.ReLU(),\r\n",
        "#             nn.BatchNorm2d(12),\r\n",
        "#             nn.Dropout(dropout_value),\r\n",
        "#             nn.Conv2d(12, 12, 3, padding= 1), # 14x14x12  > 14x14x16 : RF: 18x18\r\n",
        "#             nn.ReLU(),\r\n",
        "#             nn.BatchNorm2d(12),\r\n",
        "#             nn.Dropout(dropout_value),\r\n",
        "#             nn.MaxPool2d(2,2),\r\n",
        "#             nn.Conv2d(12, 12, 3), # 7x7x16 > 5x5x20 : RF: 36x36\r\n",
        "#             nn.ReLU(),\r\n",
        "#             nn.BatchNorm2d(12),\r\n",
        "#             nn.Dropout(dropout_value),\r\n",
        "#             nn.Conv2d(12, 12, 3, padding= 1), # 7x7x16 > 5x5x20 : RF: 36x36\r\n",
        "#             nn.ReLU(),\r\n",
        "#             nn.BatchNorm2d(12),\r\n",
        "#             nn.Dropout(dropout_value),\r\n",
        "#             nn.AvgPool2d(3, 2), # 3x3x10 > 1x1x10 : RF: 77x77\r\n",
        "#             nn.Conv2d(12, 10 , 1)\r\n",
        "#         )\r\n",
        " \r\n",
        "        \r\n",
        "#     def forward(self, x):\r\n",
        "#         x = self.conv(x)\r\n",
        "#         x = x.view(-1, 10)\r\n",
        "#         return F.log_softmax(x)"
      ],
      "execution_count": null,
      "outputs": []
    },
    {
      "cell_type": "code",
      "metadata": {
        "colab": {
          "base_uri": "https://localhost:8080/"
        },
        "id": "lB_eZ2pKk2eP",
        "outputId": "6f3f7bea-7aaf-4c45-b552-f18846c99b0f"
      },
      "source": [
        "def calc_rf(jin, k, rin):\r\n",
        "    rout = rin + ((k-1) * jin)\r\n",
        "    return rout\r\n",
        "\r\n",
        "calc_rf(4,1,40)"
      ],
      "execution_count": null,
      "outputs": [
        {
          "output_type": "execute_result",
          "data": {
            "text/plain": [
              "40"
            ]
          },
          "metadata": {
            "tags": []
          },
          "execution_count": 10
        }
      ]
    },
    {
      "cell_type": "code",
      "metadata": {
        "id": "QliE-dbQw1Kn"
      },
      "source": [
        "# Model parameters: 7.2k , accuracy= >99.4(Four times ), dr_v= 0.06 , bias= True\r\n",
        "\r\n",
        "dropout_value= 0.06\r\n",
        "\r\n",
        "class Net(nn.Module):\r\n",
        "    def __init__(self):\r\n",
        "        super(Net, self).__init__()\r\n",
        "        self.conv = nn.Sequential(\r\n",
        "            nn.Conv2d(1, 8, 3, padding=1),  #28x28x1 > 28x28x8 : RF: 3x3\r\n",
        "            nn.ReLU(),\r\n",
        "            nn.BatchNorm2d(8),\r\n",
        "            nn.Dropout(dropout_value),\r\n",
        "            nn.Conv2d(8, 12, 3, padding=1), # 28x28x8 > 28x28x12 : RF: 5x5\r\n",
        "            nn.ReLU(),\r\n",
        "            nn.BatchNorm2d(12), \r\n",
        "            nn.Dropout(dropout_value),\r\n",
        "            #transition block\r\n",
        "            nn.Conv2d(12, 6, 1),            # 28x28x12 > 28x28x6  : RF: 5x5\r\n",
        "            nn.MaxPool2d(2,2),              # 28x28x6 > 14x14x6   : RF: 6x6\r\n",
        "            nn.Conv2d(6, 12, 3),            # 14x14x6  > 12x12x12 : RF: 10x10\r\n",
        "            nn.ReLU(),\r\n",
        "            nn.BatchNorm2d(12), \r\n",
        "            nn.Dropout(dropout_value),\r\n",
        "            nn.Conv2d(12, 12, 3),           # 12x12x12 > 10x10x12 : RF: 14x14\r\n",
        "            nn.ReLU(),\r\n",
        "            nn.BatchNorm2d(12),\r\n",
        "            nn.Dropout(dropout_value),\r\n",
        "            nn.Conv2d(12, 12, 3, padding= 1),# 10x10x12  > 10x10x12 : RF: 18x18\r\n",
        "            nn.ReLU(),\r\n",
        "            nn.BatchNorm2d(12),\r\n",
        "            nn.Dropout(dropout_value),\r\n",
        "            nn.MaxPool2d(2,2),               # 10x10x12 > 5x5x12    : RF: 20x20\r\n",
        "            nn.Conv2d(12, 12, 3),            # 5x5x12 > 3x3x12      : RF: 28x28\r\n",
        "            nn.ReLU(),\r\n",
        "            nn.BatchNorm2d(12),\r\n",
        "            nn.Dropout(dropout_value),\r\n",
        "            nn.Conv2d(12, 12, 3, padding= 1),# 3x3x12 > 3x3x12      : RF: 36x36\r\n",
        "            nn.ReLU(),\r\n",
        "            nn.BatchNorm2d(12),\r\n",
        "            nn.Dropout(dropout_value),\r\n",
        "            nn.AvgPool2d(3, 2),              # 3x3x12 > 1x1x12 : RF: 40x40\r\n",
        "            nn.Conv2d(12, 10 , 1)            # 1x1x12 > 1x1x10 : RF: 40x40\r\n",
        "        )\r\n",
        " \r\n",
        "        \r\n",
        "    def forward(self, x):\r\n",
        "        x = self.conv(x)\r\n",
        "        x = x.view(-1, 10)\r\n",
        "        return F.log_softmax(x)"
      ],
      "execution_count": null,
      "outputs": []
    },
    {
      "cell_type": "code",
      "metadata": {
        "id": "J_U9L4i4Itf6"
      },
      "source": [
        "# # Model parameters: 7.2k , accuracy= >99.4(Four times ), dr_v= 0.06 , bias= True\r\n",
        "\r\n",
        "# dropout_value= 0.06\r\n",
        "\r\n",
        "# class Net(nn.Module):\r\n",
        "#     def __init__(self):\r\n",
        "#         super(Net, self).__init__()\r\n",
        "#         self.conv = nn.Sequential(\r\n",
        "#             nn.Conv2d(1, 6, 3, padding=1), #28x28x1 > 28x28x4 : RF: 3x3\r\n",
        "#             nn.ReLU(),\r\n",
        "#             nn.BatchNorm2d(6),\r\n",
        "#             nn.Dropout(dropout_value),\r\n",
        "#             nn.Conv2d(6, 12, 3, padding=1), # 28x28x4 > 28x28x4 : RF: 5x5\r\n",
        "#             nn.ReLU(),\r\n",
        "#             nn.BatchNorm2d(12), \r\n",
        "#             nn.Dropout(dropout_value),\r\n",
        "#             #transition block\r\n",
        "#             nn.Conv2d(12, 6, 1),\r\n",
        "#             nn.MaxPool2d(2,2),\r\n",
        "#             nn.Conv2d(6, 12, 3), #14x14x8  > 14x14x12 : RF: 14x14\r\n",
        "#             nn.ReLU(),\r\n",
        "#             nn.BatchNorm2d(12), \r\n",
        "#             nn.Dropout(dropout_value),\r\n",
        "#             nn.Conv2d(12, 12, 3), # 14x14x12 > 14x14x12  : RF: 16x16\r\n",
        "#             nn.ReLU(),\r\n",
        "#             nn.BatchNorm2d(12),\r\n",
        "#             nn.Dropout(dropout_value),\r\n",
        "#             nn.Conv2d(12, 12, 3, padding= 1), # 14x14x12  > 14x14x16 : RF: 18x18\r\n",
        "#             nn.ReLU(),\r\n",
        "#             nn.BatchNorm2d(12),\r\n",
        "#             nn.Dropout(dropout_value),\r\n",
        "#             nn.MaxPool2d(2,2),\r\n",
        "#             nn.Conv2d(12, 12, 3), # 7x7x16 > 5x5x20 : RF: 36x36\r\n",
        "#             nn.ReLU(),\r\n",
        "#             nn.BatchNorm2d(12),\r\n",
        "#             nn.Dropout(dropout_value),\r\n",
        "#             nn.Conv2d(12, 12, 3, padding= 1), # 7x7x16 > 5x5x20 : RF: 36x36\r\n",
        "#             nn.ReLU(),\r\n",
        "#             nn.BatchNorm2d(12),\r\n",
        "#             nn.Dropout(dropout_value),\r\n",
        "#             nn.AvgPool2d(3, 2), # 3x3x10 > 1x1x10 : RF: 77x77\r\n",
        "#             nn.Conv2d(12, 10 , 1)\r\n",
        "#         )\r\n",
        " \r\n",
        "        \r\n",
        "#     def forward(self, x):\r\n",
        "#         x = self.conv(x)\r\n",
        "#         x = x.view(-1, 10)\r\n",
        "#         return F.log_softmax(x)"
      ],
      "execution_count": null,
      "outputs": []
    },
    {
      "cell_type": "code",
      "metadata": {
        "colab": {
          "base_uri": "https://localhost:8080/"
        },
        "id": "xdydjYTZFyi3",
        "outputId": "24bb4e91-d9b5-43d6-b527-ff24368adfc6"
      },
      "source": [
        "# !pip install torchsummary\n",
        "from torchsummary import summary\n",
        "use_cuda = torch.cuda.is_available()\n",
        "device = torch.device(\"cuda\" if use_cuda else \"cpu\")\n",
        "model = Net().to(device)\n",
        "summary(model, input_size=(1, 28, 28))"
      ],
      "execution_count": null,
      "outputs": [
        {
          "output_type": "stream",
          "text": [
            "----------------------------------------------------------------\n",
            "        Layer (type)               Output Shape         Param #\n",
            "================================================================\n",
            "            Conv2d-1            [-1, 8, 28, 28]              80\n",
            "              ReLU-2            [-1, 8, 28, 28]               0\n",
            "       BatchNorm2d-3            [-1, 8, 28, 28]              16\n",
            "           Dropout-4            [-1, 8, 28, 28]               0\n",
            "            Conv2d-5           [-1, 12, 28, 28]             876\n",
            "              ReLU-6           [-1, 12, 28, 28]               0\n",
            "       BatchNorm2d-7           [-1, 12, 28, 28]              24\n",
            "           Dropout-8           [-1, 12, 28, 28]               0\n",
            "            Conv2d-9            [-1, 6, 28, 28]              78\n",
            "        MaxPool2d-10            [-1, 6, 14, 14]               0\n",
            "           Conv2d-11           [-1, 12, 12, 12]             660\n",
            "             ReLU-12           [-1, 12, 12, 12]               0\n",
            "      BatchNorm2d-13           [-1, 12, 12, 12]              24\n",
            "          Dropout-14           [-1, 12, 12, 12]               0\n",
            "           Conv2d-15           [-1, 12, 10, 10]           1,308\n",
            "             ReLU-16           [-1, 12, 10, 10]               0\n",
            "      BatchNorm2d-17           [-1, 12, 10, 10]              24\n",
            "          Dropout-18           [-1, 12, 10, 10]               0\n",
            "           Conv2d-19           [-1, 12, 10, 10]           1,308\n",
            "             ReLU-20           [-1, 12, 10, 10]               0\n",
            "      BatchNorm2d-21           [-1, 12, 10, 10]              24\n",
            "          Dropout-22           [-1, 12, 10, 10]               0\n",
            "        MaxPool2d-23             [-1, 12, 5, 5]               0\n",
            "           Conv2d-24             [-1, 12, 3, 3]           1,308\n",
            "             ReLU-25             [-1, 12, 3, 3]               0\n",
            "      BatchNorm2d-26             [-1, 12, 3, 3]              24\n",
            "          Dropout-27             [-1, 12, 3, 3]               0\n",
            "           Conv2d-28             [-1, 12, 3, 3]           1,308\n",
            "             ReLU-29             [-1, 12, 3, 3]               0\n",
            "      BatchNorm2d-30             [-1, 12, 3, 3]              24\n",
            "          Dropout-31             [-1, 12, 3, 3]               0\n",
            "        AvgPool2d-32             [-1, 12, 1, 1]               0\n",
            "           Conv2d-33             [-1, 10, 1, 1]             130\n",
            "================================================================\n",
            "Total params: 7,216\n",
            "Trainable params: 7,216\n",
            "Non-trainable params: 0\n",
            "----------------------------------------------------------------\n",
            "Input size (MB): 0.00\n",
            "Forward/backward pass size (MB): 0.66\n",
            "Params size (MB): 0.03\n",
            "Estimated Total Size (MB): 0.69\n",
            "----------------------------------------------------------------\n"
          ],
          "name": "stdout"
        },
        {
          "output_type": "stream",
          "text": [
            "/usr/local/lib/python3.6/dist-packages/ipykernel_launcher.py:49: UserWarning: Implicit dimension choice for log_softmax has been deprecated. Change the call to include dim=X as an argument.\n"
          ],
          "name": "stderr"
        }
      ]
    },
    {
      "cell_type": "code",
      "metadata": {
        "id": "DqTWLaM5GHgH"
      },
      "source": [
        "\n",
        "\n",
        "torch.manual_seed(1)\n",
        "batch_size = 128\n",
        "\n",
        "kwargs = {'num_workers': 1, 'pin_memory': True} if use_cuda else {}\n",
        "train_loader = torch.utils.data.DataLoader(\n",
        "    datasets.MNIST('../data', train=True, download=True,\n",
        "                    transform=transforms.Compose([\n",
        "                        transforms.RandomRotation((-7.0, 7.0), fill=(1,)),\n",
        "                        transforms.ToTensor(),\n",
        "                        transforms.Normalize((0.1307,), (0.3081,))\n",
        "                    ])),\n",
        "    batch_size=batch_size, shuffle=True, **kwargs)\n",
        "test_loader = torch.utils.data.DataLoader(\n",
        "    datasets.MNIST('../data', train=False, transform=transforms.Compose([\n",
        "                        transforms.ToTensor(),\n",
        "                        transforms.Normalize((0.1307,), (0.3081,))\n",
        "                    ])),\n",
        "    batch_size=batch_size, shuffle=True, **kwargs)\n"
      ],
      "execution_count": null,
      "outputs": []
    },
    {
      "cell_type": "code",
      "metadata": {
        "id": "Cx2XKFlnqzq8"
      },
      "source": [
        "from tqdm import tqdm\r\n",
        "\r\n",
        "train_losses = []\r\n",
        "test_losses = []\r\n",
        "train_acc = []\r\n",
        "test_acc = []\r\n",
        "\r\n",
        "def train(model, device, train_loader, optimizer, epoch):\r\n",
        "  model.train()\r\n",
        "  pbar = tqdm(train_loader)\r\n",
        "  correct = 0\r\n",
        "  processed = 0\r\n",
        "  for batch_idx, (data, target) in enumerate(pbar):\r\n",
        "    data, target = data.to(device), target.to(device)\r\n",
        "    optimizer.zero_grad()\r\n",
        "    y_pred = model(data)\r\n",
        "    loss = F.nll_loss(y_pred, target)\r\n",
        "    train_losses.append(loss)\r\n",
        "    loss.backward()\r\n",
        "    optimizer.step()\r\n",
        "    pred = y_pred.argmax(dim=1, keepdim=True)  \r\n",
        "    correct += pred.eq(target.view_as(pred)).sum().item()\r\n",
        "    processed += len(data)\r\n",
        "    pbar.set_description(desc= f'Loss={loss.item()} Batch_id={batch_idx} Accuracy={100*correct/processed:0.2f}')\r\n",
        "    train_acc.append(100*correct/processed)\r\n",
        "\r\n",
        "def test(model, device, test_loader):\r\n",
        "    model.eval()\r\n",
        "    test_loss = 0\r\n",
        "    correct = 0\r\n",
        "    with torch.no_grad():\r\n",
        "        for data, target in test_loader:\r\n",
        "            data, target = data.to(device), target.to(device)\r\n",
        "            output = model(data)\r\n",
        "            test_loss += F.nll_loss(output, target, reduction='sum').item()  \r\n",
        "            pred = output.argmax(dim=1, keepdim=True)\r\n",
        "            correct += pred.eq(target.view_as(pred)).sum().item()\r\n",
        "\r\n",
        "    test_loss /= len(test_loader.dataset)\r\n",
        "    test_losses.append(test_loss)\r\n",
        "\r\n",
        "    print('\\nTest set: Average loss: {:.4f}, Accuracy: {}/{} ({:.2f}%)\\n'.format(\r\n",
        "        test_loss, correct, len(test_loader.dataset),\r\n",
        "        100. * correct / len(test_loader.dataset)))\r\n",
        "    \r\n",
        "    test_acc.append(100. * correct / len(test_loader.dataset))\r\n",
        "    return test_loss"
      ],
      "execution_count": null,
      "outputs": []
    },
    {
      "cell_type": "code",
      "metadata": {
        "colab": {
          "base_uri": "https://localhost:8080/"
        },
        "id": "MMWbLWO6FuHb",
        "outputId": "7edb7e9e-828e-4130-d2bb-7b0ec5ff19b4"
      },
      "source": [
        "model = Net().to(device)\n",
        "optimizer = optim.SGD(model.parameters(), lr=0.01, momentum=0.9)\n",
        "# scheduler = optim.lr_scheduler.ReduceLROnPlateau(optimizer, patience=2) # Learning rate scheduler with patience = 2\n",
        "\n",
        "\n",
        "for epoch in range(1, 16):\n",
        "    train(model, device, train_loader, optimizer, epoch)\n",
        "    test_loss = test(model, device, test_loader)\n",
        "    print('Epoch-{0} lr: {1}'.format(epoch, optimizer.param_groups[0]['lr']))\n",
        "    # scheduler.step(test_loss)"
      ],
      "execution_count": null,
      "outputs": [
        {
          "output_type": "stream",
          "text": [
            "  0%|          | 0/469 [00:00<?, ?it/s]/usr/local/lib/python3.6/dist-packages/ipykernel_launcher.py:49: UserWarning: Implicit dimension choice for log_softmax has been deprecated. Change the call to include dim=X as an argument.\n",
            "Loss=0.11784439533948898 Batch_id=468 Accuracy=89.97: 100%|██████████| 469/469 [00:18<00:00, 25.66it/s]\n",
            "  0%|          | 0/469 [00:00<?, ?it/s]"
          ],
          "name": "stderr"
        },
        {
          "output_type": "stream",
          "text": [
            "\n",
            "Test set: Average loss: 0.0703, Accuracy: 9802/10000 (98.02%)\n",
            "\n",
            "Epoch-1 lr: 0.01\n"
          ],
          "name": "stdout"
        },
        {
          "output_type": "stream",
          "text": [
            "Loss=0.10251530259847641 Batch_id=468 Accuracy=97.16: 100%|██████████| 469/469 [00:17<00:00, 26.06it/s]\n",
            "  0%|          | 0/469 [00:00<?, ?it/s]"
          ],
          "name": "stderr"
        },
        {
          "output_type": "stream",
          "text": [
            "\n",
            "Test set: Average loss: 0.0522, Accuracy: 9851/10000 (98.51%)\n",
            "\n",
            "Epoch-2 lr: 0.01\n"
          ],
          "name": "stdout"
        },
        {
          "output_type": "stream",
          "text": [
            "Loss=0.08294524997472763 Batch_id=468 Accuracy=97.80: 100%|██████████| 469/469 [00:17<00:00, 26.12it/s]\n",
            "  0%|          | 0/469 [00:00<?, ?it/s]"
          ],
          "name": "stderr"
        },
        {
          "output_type": "stream",
          "text": [
            "\n",
            "Test set: Average loss: 0.0339, Accuracy: 9898/10000 (98.98%)\n",
            "\n",
            "Epoch-3 lr: 0.01\n"
          ],
          "name": "stdout"
        },
        {
          "output_type": "stream",
          "text": [
            "Loss=0.06759408116340637 Batch_id=468 Accuracy=98.16: 100%|██████████| 469/469 [00:18<00:00, 25.65it/s]\n",
            "  0%|          | 0/469 [00:00<?, ?it/s]"
          ],
          "name": "stderr"
        },
        {
          "output_type": "stream",
          "text": [
            "\n",
            "Test set: Average loss: 0.0326, Accuracy: 9909/10000 (99.09%)\n",
            "\n",
            "Epoch-4 lr: 0.01\n"
          ],
          "name": "stdout"
        },
        {
          "output_type": "stream",
          "text": [
            "Loss=0.051781222224235535 Batch_id=468 Accuracy=98.30: 100%|██████████| 469/469 [00:18<00:00, 25.60it/s]\n",
            "  0%|          | 0/469 [00:00<?, ?it/s]"
          ],
          "name": "stderr"
        },
        {
          "output_type": "stream",
          "text": [
            "\n",
            "Test set: Average loss: 0.0305, Accuracy: 9904/10000 (99.04%)\n",
            "\n",
            "Epoch-5 lr: 0.01\n"
          ],
          "name": "stdout"
        },
        {
          "output_type": "stream",
          "text": [
            "Loss=0.041037868708372116 Batch_id=468 Accuracy=98.41: 100%|██████████| 469/469 [00:17<00:00, 26.43it/s]\n",
            "  0%|          | 0/469 [00:00<?, ?it/s]"
          ],
          "name": "stderr"
        },
        {
          "output_type": "stream",
          "text": [
            "\n",
            "Test set: Average loss: 0.0254, Accuracy: 9919/10000 (99.19%)\n",
            "\n",
            "Epoch-6 lr: 0.01\n"
          ],
          "name": "stdout"
        },
        {
          "output_type": "stream",
          "text": [
            "Loss=0.016806507483124733 Batch_id=468 Accuracy=98.50: 100%|██████████| 469/469 [00:18<00:00, 25.95it/s]\n",
            "  0%|          | 0/469 [00:00<?, ?it/s]"
          ],
          "name": "stderr"
        },
        {
          "output_type": "stream",
          "text": [
            "\n",
            "Test set: Average loss: 0.0234, Accuracy: 9929/10000 (99.29%)\n",
            "\n",
            "Epoch-7 lr: 0.01\n"
          ],
          "name": "stdout"
        },
        {
          "output_type": "stream",
          "text": [
            "Loss=0.06370868533849716 Batch_id=468 Accuracy=98.59: 100%|██████████| 469/469 [00:18<00:00, 25.68it/s]\n",
            "  0%|          | 0/469 [00:00<?, ?it/s]"
          ],
          "name": "stderr"
        },
        {
          "output_type": "stream",
          "text": [
            "\n",
            "Test set: Average loss: 0.0242, Accuracy: 9920/10000 (99.20%)\n",
            "\n",
            "Epoch-8 lr: 0.01\n"
          ],
          "name": "stdout"
        },
        {
          "output_type": "stream",
          "text": [
            "Loss=0.01128165703266859 Batch_id=468 Accuracy=98.75: 100%|██████████| 469/469 [00:18<00:00, 25.38it/s]\n",
            "  0%|          | 0/469 [00:00<?, ?it/s]"
          ],
          "name": "stderr"
        },
        {
          "output_type": "stream",
          "text": [
            "\n",
            "Test set: Average loss: 0.0224, Accuracy: 9935/10000 (99.35%)\n",
            "\n",
            "Epoch-9 lr: 0.01\n"
          ],
          "name": "stdout"
        },
        {
          "output_type": "stream",
          "text": [
            "Loss=0.058395687490701675 Batch_id=468 Accuracy=98.68: 100%|██████████| 469/469 [00:18<00:00, 25.58it/s]\n",
            "  0%|          | 0/469 [00:00<?, ?it/s]"
          ],
          "name": "stderr"
        },
        {
          "output_type": "stream",
          "text": [
            "\n",
            "Test set: Average loss: 0.0227, Accuracy: 9928/10000 (99.28%)\n",
            "\n",
            "Epoch-10 lr: 0.01\n"
          ],
          "name": "stdout"
        },
        {
          "output_type": "stream",
          "text": [
            "Loss=0.03167896345257759 Batch_id=468 Accuracy=98.76: 100%|██████████| 469/469 [00:18<00:00, 25.62it/s]\n",
            "  0%|          | 0/469 [00:00<?, ?it/s]"
          ],
          "name": "stderr"
        },
        {
          "output_type": "stream",
          "text": [
            "\n",
            "Test set: Average loss: 0.0238, Accuracy: 9922/10000 (99.22%)\n",
            "\n",
            "Epoch-11 lr: 0.01\n"
          ],
          "name": "stdout"
        },
        {
          "output_type": "stream",
          "text": [
            "Loss=0.04189762473106384 Batch_id=468 Accuracy=98.79: 100%|██████████| 469/469 [00:18<00:00, 25.58it/s]\n",
            "  0%|          | 0/469 [00:00<?, ?it/s]"
          ],
          "name": "stderr"
        },
        {
          "output_type": "stream",
          "text": [
            "\n",
            "Test set: Average loss: 0.0203, Accuracy: 9933/10000 (99.33%)\n",
            "\n",
            "Epoch-12 lr: 0.01\n"
          ],
          "name": "stdout"
        },
        {
          "output_type": "stream",
          "text": [
            "Loss=0.03658589348196983 Batch_id=468 Accuracy=98.85: 100%|██████████| 469/469 [00:18<00:00, 25.27it/s]\n",
            "  0%|          | 0/469 [00:00<?, ?it/s]"
          ],
          "name": "stderr"
        },
        {
          "output_type": "stream",
          "text": [
            "\n",
            "Test set: Average loss: 0.0175, Accuracy: 9945/10000 (99.45%)\n",
            "\n",
            "Epoch-13 lr: 0.01\n"
          ],
          "name": "stdout"
        },
        {
          "output_type": "stream",
          "text": [
            "Loss=0.040068548172712326 Batch_id=468 Accuracy=98.77: 100%|██████████| 469/469 [00:18<00:00, 25.75it/s]\n",
            "  0%|          | 0/469 [00:00<?, ?it/s]"
          ],
          "name": "stderr"
        },
        {
          "output_type": "stream",
          "text": [
            "\n",
            "Test set: Average loss: 0.0197, Accuracy: 9941/10000 (99.41%)\n",
            "\n",
            "Epoch-14 lr: 0.01\n"
          ],
          "name": "stdout"
        },
        {
          "output_type": "stream",
          "text": [
            "Loss=0.051446929574012756 Batch_id=468 Accuracy=98.89: 100%|██████████| 469/469 [00:18<00:00, 25.40it/s]\n"
          ],
          "name": "stderr"
        },
        {
          "output_type": "stream",
          "text": [
            "\n",
            "Test set: Average loss: 0.0187, Accuracy: 9942/10000 (99.42%)\n",
            "\n",
            "Epoch-15 lr: 0.01\n"
          ],
          "name": "stdout"
        }
      ]
    },
    {
      "cell_type": "code",
      "metadata": {
        "id": "-AjwhyurcVB5"
      },
      "source": [
        ""
      ],
      "execution_count": null,
      "outputs": []
    }
  ]
}